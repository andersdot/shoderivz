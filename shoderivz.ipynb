{
 "cells": [
  {
   "cell_type": "markdown",
   "metadata": {},
   "source": [
    "## Integrating a simple harmonic oscillator and trying to fit for the spring constant"
   ]
  },
  {
   "cell_type": "code",
   "execution_count": 1,
   "metadata": {
    "collapsed": true
   },
   "outputs": [],
   "source": [
    "import numpy as np\n",
    "import matplotlib.pyplot as plt\n",
    "from scipy.interpolate import InterpolatedUnivariateSpline\n",
    "import scipy.optimize as so\n",
    "%matplotlib inline"
   ]
  },
  {
   "cell_type": "code",
   "execution_count": 2,
   "metadata": {
    "collapsed": true
   },
   "outputs": [],
   "source": [
    "def leapfrog(x0, v0, t_obs, phi_grad, dt, nsteps, *args, **kwargs):\n",
    "    #function that takes initial conditions that takes us to the next position \n",
    "    v0_5 = v0 + phi_grad(x0, *args, **kwargs)*dt/2.\n",
    "    x = [] \n",
    "    v = [] \n",
    "    t = [] \n",
    "\n",
    "    tprime = 0.0\n",
    "    xprime = x0\n",
    "    vprime = v0\n",
    "    \n",
    "    for to in t_obs:\n",
    "        while tprime + dt < to:\n",
    "            xprime = xprime + dt*v0_5\n",
    "            a      = -phi_grad(xprime, *args, **kwargs)\n",
    "            vprime = (v0_5 + a*dt/2)\n",
    "            v0_5   = v0_5 + a*dt\n",
    "            tprime = tprime + dt        \n",
    "        dt_tiny = to - tprime\n",
    "        xprime = xprime + dt_tiny*v0_5\n",
    "        a      = -phi_grad(xprime, *args, **kwargs)\n",
    "        vprime = (v0_5 + a*dt_tiny/2)\n",
    "        v0_5   = v0_5 + a*dt_tiny\n",
    "        tprime = tprime + dt_tiny\n",
    "        \n",
    "        x.append(xprime)\n",
    "        v.append(vprime)\n",
    "        t.append(tprime)\n",
    "\n",
    "    return np.array(x), np.array(v), np.array(t)"
   ]
  },
  {
   "cell_type": "code",
   "execution_count": 3,
   "metadata": {
    "collapsed": true
   },
   "outputs": [],
   "source": [
    "def phi_grad(x, k=1):\n",
    "    return k*x"
   ]
  },
  {
   "cell_type": "code",
   "execution_count": 4,
   "metadata": {
    "collapsed": true
   },
   "outputs": [],
   "source": [
    "def genData(x, v, npoints, std_noise):\n",
    "    noise_x = np.random.normal(0, std_noise, len(x))\n",
    "    noise_v = np.random.normal(0, std_noise, len(x))\n",
    "    return noise_x + x, noise_v + v"
   ]
  },
  {
   "cell_type": "code",
   "execution_count": 5,
   "metadata": {
    "collapsed": true
   },
   "outputs": [],
   "source": [
    "def ln_likelihood(theta, data, dt_model):\n",
    "    chi2 = 0\n",
    "    k, x0, v0 = theta\n",
    "    x_obs, v_obs, t_obs, sigma_x, sigma_v = data\n",
    "    nsteps_model = int(np.max(t_obs)/dt_model) + 10 #hack, add 10 for cusion \n",
    "    x, v, t = leapfrog(x0, v0, t_obs, phi_grad, dt_model, nsteps_model, k=k)\n",
    "    #interpolate between values and sample at observed t\n",
    "    #order = 3\n",
    "    #v_interp = InterpolatedUnivariateSpline(t, v, k=order)\n",
    "    #x_interp = InterpolatedUnivariateSpline(t, x, k=order)\n",
    "\n",
    "    #close_ind = []\n",
    "    #for to in t_obs:\n",
    "    #    dt = np.abs(t - to)\n",
    "    #    close_ind.append(np.where(dt == np.min(dt))[0])\n",
    "    #close_ind = np.array(close_ind).T\n",
    "    #print(close_ind)\n",
    "    #plt.plot(t, v_interp(t), c='C0')\n",
    "    #plt.plot(t_true, v_true, c='black')\n",
    "    #plt.plot(t, x_interp(t), c='C1')\n",
    "    #plt.plot(t_true, x_true, c='black')\n",
    "    #print(v[close_ind], v_obs, x[close_ind], x_obs)\n",
    "    chi2 += -(v - v_obs)**2 / sigma_v**2 - 2*np.log(sigma_v)\n",
    "    chi2 += -(x - x_obs)**2 / sigma_x**2 - 2*np.log(sigma_x)\n",
    "    return 0.5*chi2.sum()"
   ]
  },
  {
   "cell_type": "code",
   "execution_count": 6,
   "metadata": {
    "collapsed": true
   },
   "outputs": [],
   "source": [
    "x0_true   = 0\n",
    "v0_true   = 100\n",
    "k_true    = 10\n",
    "\n",
    "dt        = 0.1\n",
    "dt_model  = 0.1 #rate to sample the likelihood model to interpolate to t_obs\n",
    "nmodelpoints = 30\n",
    "\n",
    "nobspoints   = 10\n",
    "std_noise = 1.0\n",
    "\n",
    "t_obs = np.random.uniform(0, dt*nmodelpoints, nobspoints)\n",
    "t_obs.sort()\n",
    "\n",
    "assert nmodelpoints > nobspoints, 'The number of model points must be greater than the number of observed points'"
   ]
  },
  {
   "cell_type": "code",
   "execution_count": 7,
   "metadata": {},
   "outputs": [
    {
     "data": {
      "text/plain": [
       "array([ 0.01474889,  0.07393235,  0.44208938,  0.85453608,  0.99891407,\n",
       "        1.53840346,  1.60947163,  1.75087224,  2.78877762,  2.84670806])"
      ]
     },
     "execution_count": 7,
     "metadata": {},
     "output_type": "execute_result"
    }
   ],
   "source": [
    "t_obs"
   ]
  },
  {
   "cell_type": "code",
   "execution_count": 8,
   "metadata": {},
   "outputs": [],
   "source": [
    "#generate true values and noisify them\n",
    "x_true, v_true, t_true = leapfrog(x0_true, v0_true, t_obs, phi_grad, dt, nmodelpoints, k=k_true)\n",
    "x_obs, v_obs = genData(x_true, v_true, nobspoints, std_noise)"
   ]
  },
  {
   "cell_type": "code",
   "execution_count": 13,
   "metadata": {},
   "outputs": [],
   "source": [
    "assert np.allclose(t_true, t_obs), 'Observed times and integrated times are not the same'"
   ]
  },
  {
   "cell_type": "code",
   "execution_count": 14,
   "metadata": {},
   "outputs": [],
   "source": [
    "data   = [x_obs, v_obs, t_obs, std_noise, std_noise]\n",
    "p_true = [k_true, x0_true, v0_true]\n",
    "p0     = [k_true*1.1, x0_true*1.1, v0_true*1.1]\n",
    "args   = (data, dt_model)"
   ]
  },
  {
   "cell_type": "code",
   "execution_count": 15,
   "metadata": {
    "scrolled": true
   },
   "outputs": [
    {
     "data": {
      "text/plain": [
       "<Container object of 3 artists>"
      ]
     },
     "execution_count": 15,
     "metadata": {},
     "output_type": "execute_result"
    },
    {
     "data": {
      "image/png": "[encoded data removed]",
      "text/plain": [
       "<matplotlib.figure.Figure at 0x10ffa5ac8>"
      ]
     },
     "metadata": {},
     "output_type": "display_data"
    }
   ],
   "source": [
    "plt.plot(t_true, x_true, c='C0')\n",
    "plt.plot(t_true, v_true, c='C1')\n",
    "plt.errorbar(t_obs, x_obs, yerr=std_noise, fmt='o', color='C0')\n",
    "plt.errorbar(t_obs, v_obs, yerr=std_noise, fmt='o', color='C1')"
   ]
  },
  {
   "cell_type": "code",
   "execution_count": 16,
   "metadata": {},
   "outputs": [
    {
     "data": {
      "text/plain": [
       "-1991.8966045240245"
      ]
     },
     "execution_count": 16,
     "metadata": {},
     "output_type": "execute_result"
    }
   ],
   "source": [
    "ln_likelihood(p0, data, dt_model)"
   ]
  },
  {
   "cell_type": "code",
   "execution_count": 17,
   "metadata": {},
   "outputs": [],
   "source": [
    "#%%timeit\n",
    "#res = so.minimize(lambda *args : -ln_likelihood(*args),\n",
    "#                  x0=p0, method='Powell', args=args) #, options={'maxiter': 1, 'disp': True, 'maxfev':1})\n"
   ]
  },
  {
   "cell_type": "code",
   "execution_count": 18,
   "metadata": {
    "collapsed": true
   },
   "outputs": [],
   "source": [
    "res = so.minimize(lambda *args : -ln_likelihood(*args),\n",
    "                  x0=p0, method='Powell', args=args) #, options={'maxiter': 1, 'disp': True, 'maxfev':1})\n"
   ]
  },
  {
   "cell_type": "code",
   "execution_count": 19,
   "metadata": {},
   "outputs": [
    {
     "data": {
      "text/plain": [
       "   direc: array([[ 0.        ,  0.        ,  1.        ],\n",
       "       [ 0.06529474, -0.02360153, -0.54298218],\n",
       "       [-0.03405832,  0.30726486, -0.29451522]])\n",
       "     fun: 11.778028381285695\n",
       " message: 'Optimization terminated successfully.'\n",
       "    nfev: 168\n",
       "     nit: 5\n",
       "  status: 0\n",
       " success: True\n",
       "       x: array([  10.03924362,   -0.3080085 ,  100.01001921])"
      ]
     },
     "execution_count": 19,
     "metadata": {},
     "output_type": "execute_result"
    }
   ],
   "source": [
    "res"
   ]
  },
  {
   "cell_type": "code",
   "execution_count": 20,
   "metadata": {},
   "outputs": [
    {
     "name": "stdout",
     "output_type": "stream",
     "text": [
      "The true values are: k = 10.00, x0 = 0.00, v0 = 100.00\n",
      "The optimized values are: k = 10.04, x0 = -0.31, v0 = 100.01\n"
     ]
    }
   ],
   "source": [
    "print('The true values are: k = {0:0.2f}, x0 = {1:0.2f}, v0 = {2:0.2f}'.format(k_true, x0_true, v0_true))\n",
    "print('The optimized values are: k = {0:0.2f}, x0 = {1:0.2f}, v0 = {2:0.2f}'.format(res.x[0], res.x[1], res.x[2]))\n"
   ]
  },
  {
   "cell_type": "code",
   "execution_count": 25,
   "metadata": {},
   "outputs": [
    {
     "data": {
      "text/plain": [
       "Text(0.5,1,'Best fit k, x0, v0 from Optimization')"
      ]
     },
     "execution_count": 25,
     "metadata": {},
     "output_type": "execute_result"
    },
    {
     "data": {
      "image/png": "[encoded data removed]",
      "text/plain": [
       "<matplotlib.figure.Figure at 0x110339898>"
      ]
     },
     "metadata": {},
     "output_type": "display_data"
    }
   ],
   "source": [
    "#plot best fit from optimization \n",
    "x, v, t = leapfrog(res.x[1], res.x[2], t_obs, phi_grad, dt_model, nmodelpoints, k=res.x[0])\n",
    "t_compare = np.linspace(0, dt*nmodelpoints, 1000)\n",
    "x_compare, v_compare, t_compare = leapfrog(res.x[1], res.x[2], t_compare, phi_grad, dt_model, nmodelpoints, k=res.x[0])\n",
    "plt.plot(t_compare, x_compare, c='C0')\n",
    "plt.plot(t_compare, v_compare, c='C1')\n",
    "plt.errorbar(t_obs, x_obs, yerr=std_noise, fmt='o', color='C0')\n",
    "plt.errorbar(t_obs, v_obs, yerr=std_noise, fmt='o', color='C1')\n",
    "plt.title('Best fit k, x0, v0 from Optimization')"
   ]
  },
  {
   "cell_type": "code",
   "execution_count": 26,
   "metadata": {
    "collapsed": true
   },
   "outputs": [],
   "source": [
    "import autograd.numpy as np  # Thinly-wrapped numpy\n",
    "from autograd import grad  "
   ]
  },
  {
   "cell_type": "code",
   "execution_count": 27,
   "metadata": {
    "collapsed": true
   },
   "outputs": [],
   "source": [
    "def nll(*args):\n",
    "    return -ln_likelihood(*args)"
   ]
  },
  {
   "cell_type": "code",
   "execution_count": 28,
   "metadata": {
    "collapsed": true
   },
   "outputs": [],
   "source": [
    "grad_ln_like = grad(nll)"
   ]
  },
  {
   "cell_type": "code",
   "execution_count": 29,
   "metadata": {},
   "outputs": [
    {
     "data": {
      "text/plain": [
       "[array(2161.646296586348), array(379.56214789978014), array(136.391368574384)]"
      ]
     },
     "execution_count": 29,
     "metadata": {},
     "output_type": "execute_result"
    }
   ],
   "source": [
    "grad_ln_like(p0, data, dt_model)"
   ]
  },
  {
   "cell_type": "code",
   "execution_count": 30,
   "metadata": {},
   "outputs": [],
   "source": [
    "#%%timeit\n",
    "#args = (data, dt_model) \n",
    "#res = so.minimize(nll, x0=p0, args=args, jac=grad_ln_like) #, options={'maxiter': 1, 'disp': True, 'maxfev':1})\n"
   ]
  },
  {
   "cell_type": "code",
   "execution_count": 31,
   "metadata": {
    "collapsed": true
   },
   "outputs": [],
   "source": [
    "args = (data, dt_model) \n",
    "res = so.minimize(nll, x0=p0, args=args, jac=grad_ln_like) #, options={'maxiter': 1, 'disp': True, 'maxfev':1})\n"
   ]
  },
  {
   "cell_type": "code",
   "execution_count": 32,
   "metadata": {},
   "outputs": [
    {
     "data": {
      "text/plain": [
       "      fun: 11.77802836833003\n",
       " hess_inv: array([[ 0.00170221, -0.0113231 ,  0.00288454],\n",
       "       [-0.0113231 ,  0.10125062, -0.05959965],\n",
       "       [ 0.00288454, -0.05959965,  0.2082882 ]])\n",
       "      jac: array([ -4.75025131e-06,   9.31215304e-07,   6.26311272e-07])\n",
       "  message: 'Optimization terminated successfully.'\n",
       "     nfev: 12\n",
       "      nit: 9\n",
       "     njev: 12\n",
       "   status: 0\n",
       "  success: True\n",
       "        x: array([  10.03924535,   -0.30802285,  100.00996927])"
      ]
     },
     "execution_count": 32,
     "metadata": {},
     "output_type": "execute_result"
    }
   ],
   "source": [
    "res"
   ]
  },
  {
   "cell_type": "code",
   "execution_count": 33,
   "metadata": {},
   "outputs": [
    {
     "data": {
      "text/plain": [
       "Text(0.5,1,'Best fit k, x0, v0 from Optimization')"
      ]
     },
     "execution_count": 33,
     "metadata": {},
     "output_type": "execute_result"
    },
    {
     "data": {
      "image/png": "[encoded data removed]",
      "text/plain": [
       "<matplotlib.figure.Figure at 0x1105b8c18>"
      ]
     },
     "metadata": {},
     "output_type": "display_data"
    }
   ],
   "source": [
    "#plot best fit from optimization \n",
    "x, v, t = leapfrog(res.x[1], res.x[2], t_obs, phi_grad, dt_model, nmodelpoints, k=res.x[0])\n",
    "x_compare, v_compare, t_compare = leapfrog(res.x[1], res.x[2], np.linspace(0, dt*nmodelpoints, 1000), phi_grad, dt_model, nmodelpoints, k=res.x[0])\n",
    "plt.plot(t_compare, x_compare, c='C0')\n",
    "plt.plot(t_compare, v_compare, c='C1')\n",
    "plt.errorbar(t_obs, x_obs, yerr=std_noise, fmt='o', color='C0')\n",
    "plt.errorbar(t_obs, v_obs, yerr=std_noise, fmt='o', color='C1')\n",
    "plt.title('Best fit k, x0, v0 from Optimization')"
   ]
  },
  {
   "cell_type": "code",
   "execution_count": null,
   "metadata": {
    "collapsed": true
   },
   "outputs": [],
   "source": []
  }
 ],
 "metadata": {
  "kernelspec": {
   "display_name": "Python 3",
   "language": "python",
   "name": "python3"
  },
  "language_info": {
   "codemirror_mode": {
    "name": "ipython",
    "version": 3
   },
   "file_extension": ".py",
   "mimetype": "text/x-python",
   "name": "python",
   "nbconvert_exporter": "python",
   "pygments_lexer": "ipython3",
   "version": "3.6.3"
  }
 },
 "nbformat": 4,
 "nbformat_minor": 2
}
