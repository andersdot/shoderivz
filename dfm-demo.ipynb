{
 "cells": [
  {
   "cell_type": "code",
   "execution_count": 1,
   "metadata": {},
   "outputs": [],
   "source": [
    "%matplotlib inline\n",
    "import numpy as np\n",
    "import matplotlib.pyplot as plt\n",
    "\n",
    "import tensorflow as tf\n",
    "\n",
    "session = tf.get_default_session()\n",
    "if session is None:\n",
    "    session = tf.InteractiveSession()"
   ]
  },
  {
   "cell_type": "code",
   "execution_count": 32,
   "metadata": {},
   "outputs": [],
   "source": [
    "from shoop import sho_integrate\n",
    "\n",
    "from exoplanet.interp import interp1d"
   ]
  },
  {
   "cell_type": "code",
   "execution_count": 41,
   "metadata": {},
   "outputs": [
    {
     "data": {
      "image/png": "[encoded data removed]",
      "text/plain": [
       "<Figure size 432x288 with 1 Axes>"
      ]
     },
     "metadata": {},
     "output_type": "display_data"
    }
   ],
   "source": [
    "np.random.seed(42)\n",
    "\n",
    "T = tf.float64\n",
    "\n",
    "x0 = tf.Variable(0.5, dtype=T)\n",
    "v0 = tf.Variable(-0.1, dtype=T)\n",
    "k = tf.Variable(10.0, dtype=T)\n",
    "session.run(tf.global_variables_initializer())\n",
    "\n",
    "tmax = 11.234\n",
    "tobs = tf.constant(np.sort(np.random.uniform(0, tmax, 50)), dtype=T)\n",
    "\n",
    "step_size = 1e-2\n",
    "N = int(tmax / step_size + 1)\n",
    "\n",
    "t, x, v, a = sho_integrate(x0, v0, k, N, step_size)\n",
    "xobs = interp1d(tobs, t, x)\n",
    "\n",
    "xdata = xobs.eval()\n",
    "xdata += 0.01 * np.random.randn(len(xdata))\n",
    "\n",
    "loglike = -0.5 * tf.reduce_sum(tf.square((xobs - xdata) / 0.01))\n",
    "\n",
    "plt.plot(tobs.eval(), xdata, \".\")\n",
    "\n",
    "var = [x0, v0, k]\n",
    "grad = tf.gradients(loglike, var)"
   ]
  },
  {
   "cell_type": "code",
   "execution_count": 42,
   "metadata": {},
   "outputs": [
    {
     "name": "stdout",
     "output_type": "stream",
     "text": [
      "10000 loops, best of 3: 178 µs per loop\n"
     ]
    }
   ],
   "source": [
    "session.run(loglike)\n",
    "%timeit session.run(loglike)"
   ]
  },
  {
   "cell_type": "code",
   "execution_count": 43,
   "metadata": {},
   "outputs": [
    {
     "name": "stdout",
     "output_type": "stream",
     "text": [
      "1000 loops, best of 3: 251 µs per loop\n"
     ]
    }
   ],
   "source": [
    "session.run(grad)\n",
    "%timeit session.run(grad)"
   ]
  },
  {
   "cell_type": "code",
   "execution_count": 35,
   "metadata": {},
   "outputs": [
    {
     "name": "stdout",
     "output_type": "stream",
     "text": [
      "10000 loops, best of 3: 200 µs per loop\n"
     ]
    }
   ],
   "source": []
  },
  {
   "cell_type": "code",
   "execution_count": 38,
   "metadata": {},
   "outputs": [
    {
     "data": {
      "text/plain": [
       "1.1288147999666265e-07"
      ]
     },
     "execution_count": 38,
     "metadata": {},
     "output_type": "execute_result"
    }
   ],
   "source": [
    "tf.test.compute_gradient_error(var, [(), (), ()], x, (N,), var_val, delta=1e-8)"
   ]
  },
  {
   "cell_type": "code",
   "execution_count": 39,
   "metadata": {},
   "outputs": [
    {
     "data": {
      "text/plain": [
       "3.3826954759508254e-07"
      ]
     },
     "execution_count": 39,
     "metadata": {},
     "output_type": "execute_result"
    }
   ],
   "source": [
    "tf.test.compute_gradient_error(var, [(), (), ()], v, (N,), var_val, delta=1e-8)"
   ]
  },
  {
   "cell_type": "code",
   "execution_count": 40,
   "metadata": {},
   "outputs": [
    {
     "data": {
      "text/plain": [
       "1.1444263274817956e-06"
      ]
     },
     "execution_count": 40,
     "metadata": {},
     "output_type": "execute_result"
    }
   ],
   "source": [
    "tf.test.compute_gradient_error(var, [(), (), ()], a, (N,), var_val, delta=1e-8)"
   ]
  },
  {
   "cell_type": "code",
   "execution_count": null,
   "metadata": {},
   "outputs": [],
   "source": []
  }
 ],
 "metadata": {
  "kernelspec": {
   "display_name": "Python 3",
   "language": "python",
   "name": "python3"
  },
  "language_info": {
   "codemirror_mode": {
    "name": "ipython",
    "version": 3
   },
   "file_extension": ".py",
   "mimetype": "text/x-python",
   "name": "python",
   "nbconvert_exporter": "python",
   "pygments_lexer": "ipython3",
   "version": "3.6.1"
  }
 },
 "nbformat": 4,
 "nbformat_minor": 2
}
