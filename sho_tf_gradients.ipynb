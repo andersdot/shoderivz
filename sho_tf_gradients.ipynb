{
 "cells": [
  {
   "cell_type": "markdown",
   "metadata": {},
   "source": [
    "## Integrating a simple harmonic oscillator and trying to infer the spring constant"
   ]
  },
  {
   "cell_type": "code",
   "execution_count": 1,
   "metadata": {
    "collapsed": true
   },
   "outputs": [],
   "source": [
    "%load_ext autoreload\n",
    "%autoreload 2"
   ]
  },
  {
   "cell_type": "code",
   "execution_count": 2,
   "metadata": {},
   "outputs": [],
   "source": [
    "import numpy as np\n",
    "import matplotlib.pyplot as plt\n",
    "from scipy.interpolate import InterpolatedUnivariateSpline\n",
    "import scipy.optimize as so\n",
    "%matplotlib inline\n",
    "import autograd.numpy as np # Thinly-wrapped numpy\n",
    "#import numpy as np  \n",
    "from autograd import grad  \n",
    "import tensorflow as tf\n",
    "from tensorflow.contrib import autograph\n",
    "import leapfrog as lf\n",
    "from tensorflow.python.ops import gradients_impl"
   ]
  },
  {
   "cell_type": "code",
   "execution_count": 3,
   "metadata": {},
   "outputs": [
    {
     "data": {
      "text/plain": [
       "'1.10.0'"
      ]
     },
     "execution_count": 3,
     "metadata": {},
     "output_type": "execute_result"
    }
   ],
   "source": [
    "tf.VERSION"
   ]
  },
  {
   "cell_type": "markdown",
   "metadata": {},
   "source": [
    "##  Define python functions first to compare with TF to debug "
   ]
  },
  {
   "cell_type": "code",
   "execution_count": 4,
   "metadata": {
    "collapsed": true
   },
   "outputs": [],
   "source": [
    "def genData(x, v, npoints, std_noise_x, std_noise_v):\n",
    "    noise_x = np.random.normal(0, std_noise_x, len(x))\n",
    "    noise_v = np.random.normal(0, std_noise_v, len(x))\n",
    "    return noise_x + x, noise_v + v\n",
    "\n",
    "def ln_likelihood(theta, data, dt_model):\n",
    "    chi2 = 0\n",
    "    k, x0, v0, *t_obs = theta\n",
    "    x_obs, v_obs, sigma_x, sigma_v = data\n",
    "    x, v, _, _ = leapfrog(x0, v0, np.array(t_obs), potential_and_grad_py, dt_model, k=k)\n",
    "    chi2 += -(v - v_obs)**2 / sigma_v**2 - 2*np.log(sigma_v)\n",
    "    chi2 += -(x - x_obs)**2 / sigma_x**2 - 2*np.log(sigma_x)\n",
    "    return 0.5*chi2.sum()\n",
    "\n",
    "def tf_log_like(x0, v0, k, t_obs, step_size, data):\n",
    "    chi2 = 0\n",
    "    x_obs, v_obs, sigma_x, sigma_v = data\n",
    "    x, v = lf.leapfrog(x0, v0, k, t_obs, step_size)\n",
    "    chi2 += -(v - v_obs)**2 / sigma_v**2 - 2*np.log(sigma_v)\n",
    "    chi2 += -(x - x_obs)**2 / sigma_x**2 - 2*np.log(sigma_x)\n",
    "    return 0.5*tf.reduce_sum(chi2)\n",
    "\n",
    "def nll_python(*args):\n",
    "    return -ln_likelihood(*args)\n",
    "\n",
    "def potential_and_grad_py(position, k=1.0):\n",
    "    #function that returns the potential and it's gradient at a given position\n",
    "    return 0.5 * k * position**2, k*position\n",
    "\n",
    "def leap(position, momentum, grad, potential_and_grad, step_size, k=1.0):\n",
    "    momentum -= 0.5 * step_size * grad\n",
    "    position += step_size * momentum\n",
    "    potential, grad = potential_and_grad_py(position, k=k)\n",
    "    momentum -= 0.5 * step_size * grad\n",
    "    return position, momentum, potential, grad\n",
    "\n",
    "def leapfrog(x0, v0, t_obs, potential_and_grad_py, dt, k=np.float64(1.0)):\n",
    "    #function that takes initial conditions that takes us to the next position \n",
    "    x = [] \n",
    "    v = [] \n",
    "    t = [] \n",
    "    grads = []\n",
    "    time = []\n",
    "    \n",
    "    tprime = 0.0\n",
    "    xprime = x0\n",
    "    vprime = v0\n",
    "\n",
    "    pot, grad = potential_and_grad_py(xprime, k=k)\n",
    "    for to in t_obs:\n",
    "\n",
    "        while tprime + dt < to:\n",
    "            xprime, vprime, pot, grad = leap(xprime, vprime, grad, potential_and_grad_py, dt, k=k)\n",
    "            tprime = tprime + dt    \n",
    "        dt_tiny = to - tprime\n",
    "        xsave, vsave, potsave, gradsave = leap(xprime, vprime, grad, potential_and_grad_py, dt_tiny, k=k)\n",
    "        tsave = tprime + dt_tiny\n",
    "        #print(xsave, vsave, tsave, potsave, gradsave)\n",
    "        x.append(xsave)\n",
    "        v.append(vsave)\n",
    "        t.append(tsave)\n",
    "        grads.append(grad)\n",
    "        time.append(tprime)\n",
    "        #print(x, v)\n",
    "    return np.array(x), np.array(v), np.array(grads), np.array(time) #, np.array(t)\n",
    "\n",
    "def finite_difference_grads(k_true, x0_true, \n",
    "                            v0_true, t_obs_true, \n",
    "                            epsilon):\n",
    "    grads = []\n",
    "    \n",
    "    k = k_true\n",
    "    x0 = x0_true\n",
    "    v0 = v0_true\n",
    "    t0 = t_obs_true\n",
    "    k = k_true + epsilon/2.\n",
    "    p0_test = [k, x0, v0] + (t0).tolist()\n",
    "    kp = nll_python(p0_test, data, s_size)\n",
    "    k = k_true - epsilon/2.\n",
    "    p0_test = [k, x0, v0] + (t0).tolist()\n",
    "    km = nll_python(p0_test, data, s_size)\n",
    "    k = k_true\n",
    "\n",
    "    grads.append((kp - km)/epsilon)\n",
    "\n",
    "\n",
    "    x0 = x0_true + epsilon/2.\n",
    "    p0_test = [k, x0, v0] + (t0).tolist()\n",
    "    xp = nll_python(p0_test, data, s_size)\n",
    "    x0 = x0_true - epsilon/2.\n",
    "    p0_test = [k, x0, v0] + (t0).tolist()\n",
    "    xm = nll_python(p0_test, data, s_size)\n",
    "    x0 = x0_true\n",
    "\n",
    "    grads.append((xp - xm)/epsilon)\n",
    "\n",
    "    v0 = v0_true + epsilon/2.\n",
    "    p0_test = [k, x0, v0] + (t0).tolist()\n",
    "    vp = nll_python(p0_test, data, s_size)\n",
    "    v0 = v0_true - epsilon/2.\n",
    "    p0_test = [k, x0, v0] + (t0).tolist()\n",
    "    vm = nll_python(p0_test, data, s_size)\n",
    "    v0 = v0_true\n",
    "\n",
    "    grads.append((vp - vm)/epsilon)\n",
    "\n",
    "    for i, t in enumerate(t0):\n",
    "        t_obs_true[i] = t + epsilon/2.\n",
    "        p0_test = [k, x0, v0] + (t0).tolist()\n",
    "        tp = nll_python(p0_test, data, s_size)\n",
    "        t_obs_true[i] = t - epsilon/2.\n",
    "        p0_test = [k, x0, v0] + (t0).tolist()\n",
    "        tm = nll_python(p0_test, data, s_size)\n",
    "        t_obs_true[i] = t\n",
    "\n",
    "        grads.append((tp - tm)/epsilon)\n",
    "    return grads"
   ]
  },
  {
   "cell_type": "code",
   "execution_count": 5,
   "metadata": {
    "collapsed": true
   },
   "outputs": [],
   "source": [
    "np.random.seed(1)"
   ]
  },
  {
   "cell_type": "markdown",
   "metadata": {},
   "source": [
    "## Set some true values and initial guesses"
   ]
  },
  {
   "cell_type": "code",
   "execution_count": 6,
   "metadata": {
    "collapsed": true
   },
   "outputs": [],
   "source": [
    "#define true parameter values we will add noise to later\n",
    "x0_true   = np.float64(10.)\n",
    "v0_true   = np.float64(10.)\n",
    "k_true    = np.float64(3.)\n",
    "\n",
    "#define step size of each leap and number of shos\n",
    "s_size = np.float64(0.01)      #resolution of each leap\n",
    "n_shos = 1            #number of simple harmonic oscillators \n",
    "\n",
    "#define true observed times\n",
    "max_time  = np.float64(10.)\n",
    "nobspoints = 10\n",
    "t_obs_true = np.random.uniform(0, max_time, nobspoints)\n",
    "t_obs_true.sort()\n",
    "\n",
    "#define noise properties \n",
    "std_noise_x = 1.0\n",
    "std_noise_v = 1.0"
   ]
  },
  {
   "cell_type": "markdown",
   "metadata": {},
   "source": [
    "## Generate fake data and model predictions using python implementation (which I trust)"
   ]
  },
  {
   "cell_type": "code",
   "execution_count": 7,
   "metadata": {
    "collapsed": true
   },
   "outputs": [],
   "source": [
    "#generate true values and noisify them\n",
    "x_true, v_true, grad_true, time_steps_true = leapfrog(x0_true, v0_true, t_obs_true, potential_and_grad_py, s_size, k=k_true)\n",
    "x_obs, v_obs = genData(x_true, v_true, nobspoints, std_noise_x, std_noise_v)"
   ]
  },
  {
   "cell_type": "code",
   "execution_count": 8,
   "metadata": {},
   "outputs": [],
   "source": [
    "data   = [x_obs, v_obs, std_noise_x, std_noise_v]\n",
    "\n",
    "k_guess = k_true  + np.random.normal(0, k_true)\n",
    "x0_guess = x0_true + np.random.normal(0, std_noise_x)\n",
    "v0_guess = v0_true + np.random.normal(0, std_noise_v)\n",
    "t0_guess = t_obs_true #+ np.random.normal(0, 1., len(t_obs_true))\n",
    "t0_guess.sort()\n",
    "p0_guess = [k_guess, \n",
    "          x0_guess, \n",
    "          v0_guess] + (t0_guess).tolist()\n",
    "\n",
    "#for plotting purposes\n",
    "t_compare = np.linspace(0, max_time, 1000)"
   ]
  },
  {
   "cell_type": "markdown",
   "metadata": {},
   "source": [
    "## Calculate log likelihood of python model"
   ]
  },
  {
   "cell_type": "code",
   "execution_count": 9,
   "metadata": {},
   "outputs": [],
   "source": [
    "#calculate log likelihood of initial guesses using python leapfrog model\n",
    "theta = [k_guess, x0_guess, v0_guess] + t0_guess.tolist()\n",
    "data = [x_obs, v_obs, std_noise_x, std_noise_v]\n",
    "python_loglikelihood = ln_likelihood(theta, data, s_size)"
   ]
  },
  {
   "cell_type": "markdown",
   "metadata": {},
   "source": [
    "## Calculate autograd gradients"
   ]
  },
  {
   "cell_type": "code",
   "execution_count": 10,
   "metadata": {
    "collapsed": true
   },
   "outputs": [],
   "source": [
    "#define autograd gradient function\n",
    "grad_ln_like = grad(nll_python)"
   ]
  },
  {
   "cell_type": "code",
   "execution_count": 11,
   "metadata": {},
   "outputs": [],
   "source": [
    "grads_autograd = grad_ln_like(p0_guess, data, s_size)"
   ]
  },
  {
   "cell_type": "markdown",
   "metadata": {},
   "source": [
    "## Calculate finite difference gradients"
   ]
  },
  {
   "cell_type": "code",
   "execution_count": 12,
   "metadata": {},
   "outputs": [],
   "source": [
    "epsilon = 0.0001\n",
    "grads_finite_difference = finite_difference_grads(k_guess, x0_guess, v0_guess, t0_guess, epsilon)"
   ]
  },
  {
   "cell_type": "markdown",
   "metadata": {},
   "source": [
    "## Now try with TensorFlow\n",
    "## Define Tensorflow variables and Tensorflow models"
   ]
  },
  {
   "cell_type": "code",
   "execution_count": 13,
   "metadata": {},
   "outputs": [],
   "source": [
    "#define log likelihood model\n",
    "#ll = tf_log_like(x, v, x_obs_tf, v_obs_tf, std_noise_x_tf, std_noise_v_tf)\n",
    "tf.reset_default_graph()\n",
    "\n",
    "data = [x_obs, v_obs, std_noise_x, std_noise_v]\n",
    "\n",
    "#turn initial parameter guesses into tensorflow tensors so tensorflow can take gradients of them\n",
    "x0_tf    = tf.Variable(tf.constant(x0_guess),    name = \"x0\"   , dtype=np.float64)\n",
    "v0_tf    = tf.Variable(tf.constant(v0_guess),    name = \"v0\"   , dtype=np.float64)\n",
    "k_tf     = tf.Variable(tf.constant(k_guess),     name = \"k\"    , dtype=np.float64)\n",
    "t_obs_tf = tf.Variable(tf.constant(t0_guess), name = \"t_obs\", dtype=np.float64)    \n",
    "\n",
    "#define tensorflow models\n",
    "#returns the modeled x and v values \n",
    "model = lf.leapfrog(x0_tf, v0_tf, k_tf, t_obs_tf, s_size)\n",
    "#returns the negative log likelihood of the parameters\n",
    "nll = -tf_log_like(x0_tf, v0_tf, k_tf, t_obs_tf, s_size, data)\n",
    "#returns the likelihood of the parameters\n",
    "ll = tf_log_like(x0_tf, v0_tf, k_tf, t_obs_tf, s_size, data)\n",
    "\n",
    "#returns the gradients of the negative log likelihood\n",
    "gradients = gradients_impl.gradients(nll, [k_tf, x0_tf, v0_tf, t_obs_tf]) #, current_v, k])\n"
   ]
  },
  {
   "cell_type": "markdown",
   "metadata": {},
   "source": [
    "## Run the Tensorflow models "
   ]
  },
  {
   "cell_type": "code",
   "execution_count": 14,
   "metadata": {},
   "outputs": [],
   "source": [
    "with tf.Session() as session:\n",
    "    #initialize all variables that are defined\n",
    "    session.run(tf.global_variables_initializer())\n",
    "    #run model to get x, v for debugging purposes in plots below\n",
    "    x, v = session.run(model)\n",
    "    #compute likelihood of model parameters\n",
    "    tensorflow_loglikelihood = session.run(ll)\n",
    "    #compute the gradients of the negative log likelihood with respect to all the parameters \n",
    "    grads_tensorflow = session.run(gradients)"
   ]
  },
  {
   "cell_type": "markdown",
   "metadata": {},
   "source": [
    "## Now plot some stuff"
   ]
  },
  {
   "cell_type": "code",
   "execution_count": 15,
   "metadata": {
    "collapsed": true
   },
   "outputs": [],
   "source": [
    "#generate values using python leapfrog from initial guesses to plot\n",
    "plot_t_obs_values = np.linspace(0, max_time, 1000)\n",
    "xleap_plot, vleap_plot, gradleap_plot, timeleap_plot = leapfrog(x0_guess,\n",
    "                                            v0_guess,\n",
    "                                            plot_t_obs_values,\n",
    "                                            potential_and_grad_py,\n",
    "                                            s_size,\n",
    "                                            k=k_guess)"
   ]
  },
  {
   "cell_type": "code",
   "execution_count": 16,
   "metadata": {
    "collapsed": true
   },
   "outputs": [],
   "source": [
    "#generate values using python leapfrog from initial guesses to compare with tf model\n",
    "xleap, vleap, gradleap, timeleap = leapfrog(x0_guess,\n",
    "                                            v0_guess,\n",
    "                                            t0_guess,\n",
    "                                            potential_and_grad_py,\n",
    "                                            s_size,\n",
    "                                            k=k_guess)"
   ]
  },
  {
   "cell_type": "code",
   "execution_count": 34,
   "metadata": {},
   "outputs": [
    {
     "data": {
      "image/png": "[encoded data removed]",
      "text/plain": [
       "<matplotlib.figure.Figure at 0x1c38990ac8>"
      ]
     },
     "metadata": {},
     "output_type": "display_data"
    },
    {
     "data": {
      "image/png": "[encoded data removed]",
      "text/plain": [
       "<matplotlib.figure.Figure at 0x1c389eeeb8>"
      ]
     },
     "metadata": {},
     "output_type": "display_data"
    }
   ],
   "source": [
    "\n",
    "#now plot some stuff\n",
    "fig, ax = plt.subplots(1,2, figsize=(5, 2.5))\n",
    "ax[0].plot(t0_guess, x - xleap, 'o')\n",
    "#print(session.run(x))\n",
    "ax[0].set_xlabel('t')\n",
    "ax[0].set_ylabel('$\\Delta x$')\n",
    "ax[1].set_xlabel('t')\n",
    "ax[1].set_ylabel('$\\Delta y$')\n",
    "ax[1].plot(t0_guess, v - vleap, 'o')\n",
    "fig.suptitle('Differences Between Python and Tensorflow Model')\n",
    "plt.tight_layout()\n",
    "\n",
    "fig, ax = plt.subplots(1,2, figsize=(5, 2.5))\n",
    "ax[0].plot(t0_guess, xleap, 'o', label='python')\n",
    "ax[0].plot(t0_guess, x, 'o', label='tf')\n",
    "ax[0].plot(plot_t_obs_values, xleap_plot, 'k-')\n",
    "ax[0].set_xlabel('t')\n",
    "ax[0].set_ylabel('x')\n",
    "ax[1].set_xlabel('t')\n",
    "ax[1].set_ylabel('y')\n",
    "ax[1].plot(t0_guess, vleap, 'o')\n",
    "ax[1].plot(t0_guess, v, 'o')\n",
    "ax[1].plot(plot_t_obs_values, vleap_plot, 'k-')\n",
    "plt.legend()\n",
    "plt.tight_layout()"
   ]
  },
  {
   "cell_type": "markdown",
   "metadata": {},
   "source": [
    "## Print the gradients to show Tensorflow, Autograd, and Finite Differences generate the same values"
   ]
  },
  {
   "cell_type": "code",
   "execution_count": 18,
   "metadata": {},
   "outputs": [
    {
     "name": "stdout",
     "output_type": "stream",
     "text": [
      "Python loglikelihood is: -206.48631941943643\n",
      "Tensorflow loglikelihood is: -206.48631941943646\n"
     ]
    }
   ],
   "source": [
    "print('Python loglikelihood is: {0}'.format(python_loglikelihood))\n",
    "print('Tensorflow loglikelihood is: {0}'.format(tensorflow_loglikelihood))"
   ]
  },
  {
   "cell_type": "code",
   "execution_count": 19,
   "metadata": {},
   "outputs": [
    {
     "name": "stdout",
     "output_type": "stream",
     "text": [
      "Gradients of Negative Log Likelihood\n",
      "  TensorFlow  Autograd  FiniteDifference \n",
      "k  -910.590   -910.590   -910.590\n",
      "x0  -23.758   -23.758   -23.758\n",
      "v0  40.665   40.665   40.665\n"
     ]
    }
   ],
   "source": [
    "keys = ['k', 'x0', 'v0'] + ['tobs']*nobspoints\n",
    "print('Gradients of Negative Log Likelihood')\n",
    "print('  TensorFlow  Autograd  FiniteDifference ')\n",
    "for tg, ag, fg, k in zip(grads_tensorflow[0:3], grads_autograd[0:3], grads_finite_difference[0:3], keys[0:3]):\n",
    "    print('{0}  {1:0.3f}   {2:0.3f}   {3:0.3f}'.format(k, tg, ag, fg))"
   ]
  },
  {
   "cell_type": "code",
   "execution_count": 20,
   "metadata": {},
   "outputs": [
    {
     "name": "stdout",
     "output_type": "stream",
     "text": [
      "Gradients of Negative Log Likelihood\n",
      "  TensorFlow  Autograd  FiniteDifference \n",
      "tobs   -23.906    -23.906    -23.906\n",
      "tobs   -105.840    -105.840    -105.840\n",
      "tobs   -33.586    -33.586    -33.586\n",
      "tobs   -104.049    -104.049    -104.049\n",
      "tobs   -120.278    -120.278    -120.278\n",
      "tobs   -50.893    -50.893    -50.893\n",
      "tobs   -212.029    -212.029    -212.029\n",
      "tobs   -266.304    -266.304    -266.304\n",
      "tobs   -137.818    -137.818    -137.818\n",
      "tobs   -146.409    -146.409    -146.409\n"
     ]
    }
   ],
   "source": [
    "print('Gradients of Negative Log Likelihood')\n",
    "print('  TensorFlow  Autograd  FiniteDifference ')\n",
    "for tg, ag, fg, k in zip(grads_tensorflow[3].values[::-1][:-1], grads_autograd[3:], grads_finite_difference[3:], keys[3:]):\n",
    "    print('{0}   {1:0.3f}    {2:0.3f}    {3:0.3f}'.format(k, tg, ag, fg))"
   ]
  },
  {
   "cell_type": "code",
   "execution_count": null,
   "metadata": {
    "collapsed": true
   },
   "outputs": [],
   "source": [
    "log_prior = -1.5 * tf.log(1.0 + m_tensor**2)"
   ]
  },
  {
   "cell_type": "code",
   "execution_count": 21,
   "metadata": {},
   "outputs": [
    {
     "name": "stdout",
     "output_type": "stream",
     "text": [
      "[2.63132932 9.06423057 9.73211192]\n",
      "The value is: -206.48631941943646\n",
      "The gradient is: [910.58954757  23.75812671 -40.66525166]\n"
     ]
    }
   ],
   "source": [
    "# First we say that we want the model to return the value and gradient\n",
    "# of `log_prob` as a function of the parameters \n",
    "\n",
    "from helpers import TFModel\n",
    "model = TFModel(ll, [k_tf, x0_tf, v0_tf])\n",
    "\n",
    "with tf.Session() as session:\n",
    "    session.run(tf.global_variables_initializer())\n",
    "    \n",
    "    # Within the session, you first need to call the `setup` method.\n",
    "    model.setup(session)\n",
    "    \n",
    "    # You can access the current parameter vector for the model.\n",
    "    # This will always be a flat numpy array.\n",
    "    params = model.current_vector()\n",
    "    print(params)\n",
    "    # The value and gradient of the tensor can be evaluated for specific\n",
    "    # values of the parameters.\n",
    "    print(\"The value is: {0}\".format(model.value(params)))\n",
    "    print(\"The gradient is: {0}\".format(model.gradient(params)))\n"
   ]
  },
  {
   "cell_type": "code",
   "execution_count": 23,
   "metadata": {},
   "outputs": [
    {
     "name": "stdout",
     "output_type": "stream",
     "text": [
      "Initial parameters: [2.6313293234440556, 9.064230565740932, 9.732111920373985]\n",
      "Initial log likelihood: -206.48631941943646\n",
      "INFO:tensorflow:Optimization terminated with:\n",
      "  Message: b'CONVERGENCE: NORM_OF_PROJECTED_GRADIENT_<=_PGTOL'\n",
      "  Objective function value: 8.628458\n",
      "  Number of iterations: 14\n",
      "  Number of functions evaluations: 18\n",
      "Final log likelihood: -8.628457685233188\n",
      "\n",
      "Final parameters: [2.975277023636554, 9.933545619065734, 9.405778661050611]\n",
      "True parameters: 3.0 10.0 10.0\n"
     ]
    }
   ],
   "source": [
    "opt = tf.contrib.opt.ScipyOptimizerInterface(\n",
    "    nll, var_list=[k_tf, x0_tf, v0_tf])\n",
    "\n",
    "with tf.Session() as session:\n",
    "    session.run(tf.global_variables_initializer())\n",
    "    print(\"Initial parameters: {0}\".format(session.run([k_tf, x0_tf, v0_tf])))\n",
    "    print(\"Initial log likelihood: {0}\".format(session.run(ll)))\n",
    "    opt.minimize(session)\n",
    "    \n",
    "    print(\"Final log likelihood: {0}\\n\".format(session.run(ll)))\n",
    "    params = session.run([k_tf, x0_tf, v0_tf])\n",
    "    print(\"Final parameters: {0}\".format(params))\n",
    "    print(\"True parameters: {0} {1} {2}\".format(k_true, x0_true, v0_true))"
   ]
  },
  {
   "cell_type": "code",
   "execution_count": 24,
   "metadata": {},
   "outputs": [],
   "source": [
    "import time\n",
    "import emcee\n",
    "\n",
    "emcee_time = time.time()\n",
    "with tf.Session() as session:\n",
    "    session.run(tf.global_variables_initializer())\n",
    "    model.setup(session)\n",
    "    \n",
    "    pos = model.current_vector()\n",
    "    pos = pos + 1e-5*np.random.randn(8, len(pos))\n",
    "    nwalkers, ndim = pos.shape\n",
    "    \n",
    "    sampler = emcee.EnsembleSampler(nwalkers, ndim, model.value)\n",
    "    pos, _, _ = sampler.run_mcmc(pos, 20)\n",
    "    sampler.reset()\n",
    "    pos, _, _ = sampler.run_mcmc(pos, 200)\n",
    "emcee_time = time.time() - emcee_time"
   ]
  },
  {
   "cell_type": "code",
   "execution_count": 25,
   "metadata": {},
   "outputs": [
    {
     "data": {
      "image/png": "[encoded data removed]",
      "text/plain": [
       "<matplotlib.figure.Figure at 0x1c2b0a6470>"
      ]
     },
     "metadata": {},
     "output_type": "display_data"
    }
   ],
   "source": [
    "import corner\n",
    "true_params = [k_true, x0_true, v0_true]\n",
    "truth = np.array(true_params)\n",
    "truth[-1] = np.log(true_params[-1])\n",
    "corner.corner(sampler.flatchain,\n",
    "              labels=[\"m\", \"b\", \"log(s)\"],\n",
    "              truths=truth);\n"
   ]
  },
  {
   "cell_type": "code",
   "execution_count": 26,
   "metadata": {},
   "outputs": [
    {
     "data": {
      "text/plain": [
       "array([0.01315949, 0.09223698, 0.45510683])"
      ]
     },
     "execution_count": 26,
     "metadata": {},
     "output_type": "execute_result"
    }
   ],
   "source": [
    "np.var(sampler.flatchain, axis=0)"
   ]
  },
  {
   "cell_type": "code",
   "execution_count": 27,
   "metadata": {},
   "outputs": [
    {
     "name": "stdout",
     "output_type": "stream",
     "text": [
      "<helpers.DiagonalMetric object at 0x1c37755828>\n"
     ]
    }
   ],
   "source": [
    "import helpers\n",
    "\n",
    "# We will cheat a little bit and use our previous chain to estimate the\n",
    "# the appropriate tuning scales for the parameters.\n",
    "metric = helpers.DiagonalMetric(3, np.var(sampler.flatchain, axis=0)*10)\n",
    "print(metric)"
   ]
  },
  {
   "cell_type": "code",
   "execution_count": 28,
   "metadata": {},
   "outputs": [
    {
     "data": {
      "text/plain": [
       "array([0.13159495, 0.92236979, 4.55106826])"
      ]
     },
     "execution_count": 28,
     "metadata": {},
     "output_type": "execute_result"
    }
   ],
   "source": [
    "metric.variance"
   ]
  },
  {
   "cell_type": "code",
   "execution_count": 29,
   "metadata": {},
   "outputs": [
    {
     "name": "stderr",
     "output_type": "stream",
     "text": [
      "100%|██████████| 500/500 [03:01<00:00,  2.76it/s]\n"
     ]
    }
   ],
   "source": [
    "import helpers\n",
    "\n",
    "# We will cheat a little bit and use our previous chain to estimate the\n",
    "# the appropriate tuning scales for the parameters.\n",
    "metric = helpers.DiagonalMetric(3, np.var(sampler.flatchain, axis=0)*10)\n",
    "\n",
    "nuts_time = time.time()\n",
    "with tf.Session() as session:\n",
    "    session.run(tf.global_variables_initializer())\n",
    "\n",
    "    # This method does the sampling:\n",
    "    nuts = helpers.tf_simple_nuts(\n",
    "        session,\n",
    "        ll,\n",
    "        [k_tf, x0_tf, v0_tf],\n",
    "        500,          # The number of MCMC steps\n",
    "        3.0,           # The integration step size\n",
    "        metric=metric  # The scaling metric computed above\n",
    "    )\n",
    "nuts_time = time.time() - nuts_time\n"
   ]
  },
  {
   "cell_type": "code",
   "execution_count": 30,
   "metadata": {},
   "outputs": [
    {
     "name": "stderr",
     "output_type": "stream",
     "text": [
      "WARNING:root:Too few points to create valid contours\n",
      "WARNING:root:Too few points to create valid contours\n",
      "WARNING:root:Too few points to create valid contours\n"
     ]
    },
    {
     "data": {
      "image/png": "[encoded data removed]",
      "text/plain": [
       "<matplotlib.figure.Figure at 0x1c37e5be48>"
      ]
     },
     "metadata": {},
     "output_type": "display_data"
    }
   ],
   "source": [
    "corner.corner(nuts[0],\n",
    "              range=[(np.min(v), np.max(v)) for v in sampler.flatchain.T],\n",
    "              labels=[\"m\", \"b\", \"log(s)\"],\n",
    "              truths=truth);\n"
   ]
  },
  {
   "cell_type": "code",
   "execution_count": 31,
   "metadata": {},
   "outputs": [
    {
     "data": {
      "text/plain": [
       "array([[2.63132932, 9.06423057, 9.73211192],\n",
       "       [2.63132932, 9.06423057, 9.73211192],\n",
       "       [2.63132932, 9.06423057, 9.73211192],\n",
       "       ...,\n",
       "       [2.63132932, 9.06423057, 9.73211192],\n",
       "       [2.63132932, 9.06423057, 9.73211192],\n",
       "       [2.63132932, 9.06423057, 9.73211192]])"
      ]
     },
     "execution_count": 31,
     "metadata": {},
     "output_type": "execute_result"
    }
   ],
   "source": [
    "nuts[0]"
   ]
  },
  {
   "cell_type": "code",
   "execution_count": null,
   "metadata": {},
   "outputs": [],
   "source": [
    "# First estimate the autocorrelation time of each chain\n",
    "from autocorr import integrated_time\n",
    "tau_emcee = integrated_time(np.swapaxes(sampler.chain, 0, 1))\n",
    "tau_nuts = integrated_time(nuts[0][:, None, :])\n",
    "\n",
    "# Then the effective numbers of samples\n",
    "neff_emcee = len(sampler.flatchain) / np.mean(tau_emcee)\n",
    "neff_nuts = len(nuts[0]) / np.mean(tau_nuts)\n",
    "\n",
    "print(\"The effective number of samples from emcee: {0:.0f}\".format(neff_emcee))\n",
    "print(\"The effective number of samples from NUTS: {0:.0f}\".format(neff_nuts))\n",
    "print(\"The time per effective sample for emcee: {0:.1f} ms\".format(1000*emcee_time / neff_emcee))\n",
    "print(\"The time per effective sample for NUTS: {0:.1f} ms\".format(1000*nuts_time / neff_nuts))"
   ]
  },
  {
   "cell_type": "code",
   "execution_count": null,
   "metadata": {
    "collapsed": true
   },
   "outputs": [],
   "source": []
  }
 ],
 "metadata": {
  "kernelspec": {
   "display_name": "Python 3",
   "language": "python",
   "name": "python3"
  },
  "language_info": {
   "codemirror_mode": {
    "name": "ipython",
    "version": 3
   },
   "file_extension": ".py",
   "mimetype": "text/x-python",
   "name": "python",
   "nbconvert_exporter": "python",
   "pygments_lexer": "ipython3",
   "version": "3.6.3"
  }
 },
 "nbformat": 4,
 "nbformat_minor": 2
}
