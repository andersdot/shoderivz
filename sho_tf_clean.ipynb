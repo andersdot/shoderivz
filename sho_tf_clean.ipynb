{
 "cells": [
  {
   "cell_type": "markdown",
   "metadata": {},
   "source": [
    "## Integrating a simple harmonic oscillator and trying to infer the spring constant"
   ]
  },
  {
   "cell_type": "code",
   "execution_count": 5,
   "metadata": {
    "collapsed": true
   },
   "outputs": [],
   "source": [
    "import numpy as np\n",
    "import matplotlib.pyplot as plt\n",
    "from scipy.interpolate import InterpolatedUnivariateSpline\n",
    "import scipy.optimize as so\n",
    "%matplotlib inline\n",
    "import autograd.numpy as np  # Thinly-wrapped numpy\n",
    "from autograd import grad  \n",
    "import tensorflow as tf\n",
    "from tensorflow.contrib import autograph\n",
    "import tfleapfrog_copy as tflf"
   ]
  },
  {
   "cell_type": "code",
   "execution_count": 6,
   "metadata": {},
   "outputs": [
    {
     "data": {
      "text/plain": [
       "'1.10.0'"
      ]
     },
     "execution_count": 6,
     "metadata": {},
     "output_type": "execute_result"
    }
   ],
   "source": [
    "tf.VERSION"
   ]
  },
  {
   "cell_type": "code",
   "execution_count": 7,
   "metadata": {},
   "outputs": [
    {
     "name": "stdout",
     "output_type": "stream",
     "text": [
      "The autoreload extension is already loaded. To reload it, use:\n",
      "  %reload_ext autoreload\n"
     ]
    }
   ],
   "source": [
    "%load_ext autoreload\n",
    "%autoreload 2"
   ]
  },
  {
   "cell_type": "code",
   "execution_count": 8,
   "metadata": {
    "collapsed": true
   },
   "outputs": [],
   "source": [
    "def potential_and_grad_py(position, k=1.0):\n",
    "    #function that returns the potential and it's gradient at a given position\n",
    "    return 0.5 * k * position**2, k*position\n",
    "\n",
    "def leap(position, momentum, grad, potential_and_grad, step_size, k=1.0):\n",
    "    momentum -= 0.5 * step_size * grad\n",
    "    position += step_size * momentum\n",
    "    potential, grad = potential_and_grad_py(position, k=k)\n",
    "    momentum -= 0.5 * step_size * grad\n",
    "    return position, momentum, potential, grad\n",
    "\n",
    "def leapfrog(x0, v0, t_obs, phi_grad, dt, k=1.0):\n",
    "    #function that takes initial conditions that takes us to the next position \n",
    "    x = [] \n",
    "    v = [] \n",
    "    t = [] \n",
    "\n",
    "    tprime = 0.0\n",
    "    xprime = x0\n",
    "    vprime = v0\n",
    "    pot, grad = potential_and_grad_py(xprime, k=k)\n",
    "    for to in t_obs:\n",
    "        while tprime + dt < to:\n",
    "            xprime, vprime, pot, grad = leap(xprime, vprime, grad, potential_and_grad_py, dt, k=k)\n",
    "            tprime = tprime + dt        \n",
    "        dt_tiny = to - tprime\n",
    "        xsave, vsave, potsave, gradsave = leap(xprime, vprime, grad, potential_and_grad_py, dt_tiny, k=k)\n",
    "        tsave = tprime + dt_tiny\n",
    "        #print(xsave, vsave, tsave, potsave, gradsave)\n",
    "        x.append(xsave.copy())\n",
    "        v.append(vsave.copy())\n",
    "        t.append(tsave.copy())\n",
    "        #print(x, v)\n",
    "    return np.array(x), np.array(v) #, np.array(t)"
   ]
  },
  {
   "cell_type": "code",
   "execution_count": 23,
   "metadata": {},
   "outputs": [
    {
     "name": "stdout",
     "output_type": "stream",
     "text": [
      "from __future__ import print_function\n",
      "import tensorflow as tf\n",
      "\n",
      "def tf__leap(position, momentum, grad, potential_and_grad, step_size, k=1.0):\n",
      "  try:\n",
      "    with tf.name_scope('leap'):\n",
      "      momentum -= 0.5 * step_size * grad\n",
      "      position += step_size * momentum\n",
      "      potential, grad = tf__potential_and_grad_py(position, k=k)\n",
      "      momentum -= 0.5 * step_size * grad\n",
      "      return position, momentum, potential, grad\n",
      "  except:\n",
      "    ag__.rewrite_graph_construction_error(ag_source_map__)\n",
      "\n",
      "def tf__potential_and_grad_py(position, k=1.0):\n",
      "  try:\n",
      "    with tf.name_scope('potential_and_grad_py'):\n",
      "      return 0.5 * k * position ** 2, k * position\n",
      "  except:\n",
      "    ag__.rewrite_graph_construction_error(ag_source_map__)\n",
      "\n",
      "def tf__leapfrog(x0, v0, t_obs, phi_grad, dt, k=1.0):\n",
      "  try:\n",
      "    with tf.name_scope('leapfrog'):\n",
      "      x = ag__.new_list([])\n",
      "      v = ag__.new_list([])\n",
      "      t = ag__.new_list([])\n",
      "      tprime = 0.0\n",
      "      xprime = x0\n",
      "      vprime = v0\n",
      "      pot, grad = tf__potential_and_grad_py(xprime, k=k)\n",
      "\n",
      "      def extra_test(v_1, vprime_2, xprime_2, grad_2, tprime_2, pot_1, x_1, t_1\n",
      "          ):\n",
      "        with tf.name_scope('extra_test'):\n",
      "          return True\n",
      "\n",
      "      def loop_body_1(to, v_1, vprime_2, xprime_2, grad_2, tprime_2, pot_1,\n",
      "          x_1, t_1):\n",
      "        with tf.name_scope('loop_body_1'):\n",
      "\n",
      "          def loop_test(xprime_1, tprime_1, grad_1, pot_1, vprime_1):\n",
      "            with tf.name_scope('loop_test'):\n",
      "              return tf.less(tprime_1 + dt, to)\n",
      "\n",
      "          def loop_body(xprime_1, tprime_1, grad_1, pot_1, vprime_1):\n",
      "            with tf.name_scope('loop_body'):\n",
      "              xprime_1, vprime_1, pot_1, grad_1 = tf__leap(xprime_1,\n",
      "                  vprime_1, grad_1, potential_and_grad_py, dt, k=k)\n",
      "              tprime_1 = tprime_1 + dt\n",
      "              return xprime_1, tprime_1, grad_1, pot_1, vprime_1\n",
      "          xprime_2, tprime_2, grad_2, pot_1, vprime_2 = ag__.while_stmt(\n",
      "              loop_test, loop_body, (xprime_2, tprime_2, grad_2, pot_1,\n",
      "              vprime_2), (to, k, xsave, tf__potential_and_grad_py, tf__leap,\n",
      "              t_obs, v0, t_1, dt, x0, np, vsave, xprime_2,\n",
      "              potential_and_grad_py, tprime_2, grad_2, dt_tiny, ag__, v_1,\n",
      "              vprime_2, tsave, x_1))\n",
      "          dt_tiny = to - tprime_2\n",
      "          xsave, vsave, potsave, gradsave = tf__leap(xprime_2, vprime_2,\n",
      "              grad_2, potential_and_grad_py, dt_tiny, k=k)\n",
      "          tsave = tprime_2 + dt_tiny\n",
      "          x_1 = ag__.list_append(x_1, ag__.converted_call(xsave.copy, True,\n",
      "              False, {}))\n",
      "          v_1 = ag__.list_append(v_1, ag__.converted_call(vsave.copy, True,\n",
      "              False, {}))\n",
      "          t_1 = ag__.list_append(t_1, ag__.converted_call(tsave.copy, True,\n",
      "              False, {}))\n",
      "          return v_1, vprime_2, xprime_2, grad_2, tprime_2, pot_1, x_1, t_1\n",
      "      v, vprime, xprime, grad, tprime, pot, x, t = ag__.for_stmt(t_obs,\n",
      "          extra_test, loop_body_1, (v, vprime, xprime, grad, tprime, pot, x, t)\n",
      "          )\n",
      "      return np.array(x), np.array(v)\n",
      "  except:\n",
      "    ag__.rewrite_graph_construction_error(ag_source_map__)\n",
      "\n"
     ]
    }
   ],
   "source": [
    "print(autograph.to_code(leapfrog))"
   ]
  },
  {
   "cell_type": "code",
   "execution_count": 35,
   "metadata": {},
   "outputs": [],
   "source": [
    "#define step size of each leap and number of shos\n",
    "s_size = 0.001      #resolution of each leap\n",
    "n_shos = 1            #number of simple harmonic oscillators \n",
    "\n",
    "#generate initial velocities and momenta\n",
    "np.random.seed(1)\n",
    "position_val = np.float64(np.random.randn(n_shos))\n",
    "momentum_val = np.float64(np.random.randn(n_shos))\n",
    "\n",
    "#set spring constant\n",
    "k_val = np.float64(0.0)\n",
    "\n",
    "#generate times to observe SHO\n",
    "max_time = 25\n",
    "nobspoints = 100\n",
    "t_obs = np.random.uniform(0, max_time, nobspoints)\n",
    "t_obs.sort()\n"
   ]
  },
  {
   "cell_type": "code",
   "execution_count": 36,
   "metadata": {
    "collapsed": true
   },
   "outputs": [],
   "source": [
    "xleap, vleap = leapfrog(position_val, momentum_val, t_obs, potential_and_grad_py, s_size, k=0.0)"
   ]
  },
  {
   "cell_type": "code",
   "execution_count": null,
   "metadata": {
    "collapsed": true
   },
   "outputs": [],
   "source": []
  },
  {
   "cell_type": "code",
   "execution_count": 46,
   "metadata": {},
   "outputs": [
    {
     "ename": "ValueError",
     "evalue": "Input tensor 'position_0_3/read:0' enters the loop with shape (), but has shape <unknown> after one iteration. To allow the shape to vary across iterations, use the `shape_invariants` argument of tf.while_loop to specify a less-specific shape.",
     "output_type": "error",
     "traceback": [
      "\u001b[0;31m---------------------------------------------------------------------------\u001b[0m",
      "\u001b[0;31mValueError\u001b[0m                                Traceback (most recent call last)",
      "\u001b[0;32m<ipython-input-46-1d72dc7ca86a>\u001b[0m in \u001b[0;36m<module>\u001b[0;34m()\u001b[0m\n\u001b[1;32m     26\u001b[0m \u001b[0;34m\u001b[0m\u001b[0m\n\u001b[1;32m     27\u001b[0m new_position, new_momentum, new_potential, new_grad, x, v = tflf.leapfrog_integrator(\n\u001b[0;32m---> 28\u001b[0;31m     step_size, dt, position_0, momentum_0, potential_and_grad, new_grad)\n\u001b[0m\u001b[1;32m     29\u001b[0m \u001b[0;34m\u001b[0m\u001b[0m\n\u001b[1;32m     30\u001b[0m \u001b[0;31m#start session\u001b[0m\u001b[0;34m\u001b[0m\u001b[0;34m\u001b[0m\u001b[0m\n",
      "\u001b[0;32m~/ahw2018/shoderivz/tfleapfrog_copy.py\u001b[0m in \u001b[0;36mleapfrog_integrator\u001b[0;34m(step_size, time, initial_position, initial_momentum, potential_and_grad, initial_grad, name)\u001b[0m\n\u001b[1;32m     64\u001b[0m         time_fn, leapfrog_wrapper, [step_size, time, initial_position,\n\u001b[1;32m     65\u001b[0m                                        \u001b[0minitial_momentum\u001b[0m\u001b[0;34m,\u001b[0m \u001b[0minitial_grad\u001b[0m\u001b[0;34m,\u001b[0m\u001b[0;34m\u001b[0m\u001b[0m\n\u001b[0;32m---> 66\u001b[0;31m                                        array_ops.constant(np.float64(0.0))], back_prop=False)\n\u001b[0m\u001b[1;32m     67\u001b[0m     \u001b[0;31m# We're counting on the runtime to eliminate this redundant computation.\u001b[0m\u001b[0;34m\u001b[0m\u001b[0;34m\u001b[0m\u001b[0m\n\u001b[1;32m     68\u001b[0m     \u001b[0mnew_potential\u001b[0m\u001b[0;34m,\u001b[0m \u001b[0mnew_grad\u001b[0m \u001b[0;34m=\u001b[0m \u001b[0mpotential_and_grad\u001b[0m\u001b[0;34m(\u001b[0m\u001b[0mnew_x\u001b[0m\u001b[0;34m)\u001b[0m\u001b[0;34m\u001b[0m\u001b[0m\n",
      "\u001b[0;32m/anaconda3/lib/python3.6/site-packages/tensorflow/python/ops/control_flow_ops.py\u001b[0m in \u001b[0;36mwhile_loop\u001b[0;34m(cond, body, loop_vars, shape_invariants, parallel_iterations, back_prop, swap_memory, name, maximum_iterations, return_same_structure)\u001b[0m\n\u001b[1;32m   3230\u001b[0m       \u001b[0mops\u001b[0m\u001b[0;34m.\u001b[0m\u001b[0madd_to_collection\u001b[0m\u001b[0;34m(\u001b[0m\u001b[0mops\u001b[0m\u001b[0;34m.\u001b[0m\u001b[0mGraphKeys\u001b[0m\u001b[0;34m.\u001b[0m\u001b[0mWHILE_CONTEXT\u001b[0m\u001b[0;34m,\u001b[0m \u001b[0mloop_context\u001b[0m\u001b[0;34m)\u001b[0m\u001b[0;34m\u001b[0m\u001b[0m\n\u001b[1;32m   3231\u001b[0m     result = loop_context.BuildLoop(cond, body, loop_vars, shape_invariants,\n\u001b[0;32m-> 3232\u001b[0;31m                                     return_same_structure)\n\u001b[0m\u001b[1;32m   3233\u001b[0m     \u001b[0;32mif\u001b[0m \u001b[0mmaximum_iterations\u001b[0m \u001b[0;32mis\u001b[0m \u001b[0;32mnot\u001b[0m \u001b[0;32mNone\u001b[0m\u001b[0;34m:\u001b[0m\u001b[0;34m\u001b[0m\u001b[0m\n\u001b[1;32m   3234\u001b[0m       \u001b[0;32mreturn\u001b[0m \u001b[0mresult\u001b[0m\u001b[0;34m[\u001b[0m\u001b[0;36m1\u001b[0m\u001b[0;34m]\u001b[0m\u001b[0;34m\u001b[0m\u001b[0m\n",
      "\u001b[0;32m/anaconda3/lib/python3.6/site-packages/tensorflow/python/ops/control_flow_ops.py\u001b[0m in \u001b[0;36mBuildLoop\u001b[0;34m(self, pred, body, loop_vars, shape_invariants, return_same_structure)\u001b[0m\n\u001b[1;32m   2950\u001b[0m       \u001b[0;32mwith\u001b[0m \u001b[0mops\u001b[0m\u001b[0;34m.\u001b[0m\u001b[0mget_default_graph\u001b[0m\u001b[0;34m(\u001b[0m\u001b[0;34m)\u001b[0m\u001b[0;34m.\u001b[0m\u001b[0m_mutation_lock\u001b[0m\u001b[0;34m(\u001b[0m\u001b[0;34m)\u001b[0m\u001b[0;34m:\u001b[0m  \u001b[0;31m# pylint: disable=protected-access\u001b[0m\u001b[0;34m\u001b[0m\u001b[0m\n\u001b[1;32m   2951\u001b[0m         original_body_result, exit_vars = self._BuildLoop(\n\u001b[0;32m-> 2952\u001b[0;31m             pred, body, original_loop_vars, loop_vars, shape_invariants)\n\u001b[0m\u001b[1;32m   2953\u001b[0m     \u001b[0;32mfinally\u001b[0m\u001b[0;34m:\u001b[0m\u001b[0;34m\u001b[0m\u001b[0m\n\u001b[1;32m   2954\u001b[0m       \u001b[0mself\u001b[0m\u001b[0;34m.\u001b[0m\u001b[0mExit\u001b[0m\u001b[0;34m(\u001b[0m\u001b[0;34m)\u001b[0m\u001b[0;34m\u001b[0m\u001b[0m\n",
      "\u001b[0;32m/anaconda3/lib/python3.6/site-packages/tensorflow/python/ops/control_flow_ops.py\u001b[0m in \u001b[0;36m_BuildLoop\u001b[0;34m(self, pred, body, original_loop_vars, loop_vars, shape_invariants)\u001b[0m\n\u001b[1;32m   2922\u001b[0m     \u001b[0mnext_vars\u001b[0m \u001b[0;34m=\u001b[0m \u001b[0;34m[\u001b[0m\u001b[0;34m]\u001b[0m\u001b[0;34m\u001b[0m\u001b[0m\n\u001b[1;32m   2923\u001b[0m     \u001b[0;32mfor\u001b[0m \u001b[0mm\u001b[0m\u001b[0;34m,\u001b[0m \u001b[0mv\u001b[0m \u001b[0;32min\u001b[0m \u001b[0mzip\u001b[0m\u001b[0;34m(\u001b[0m\u001b[0mmerge_vars\u001b[0m\u001b[0;34m,\u001b[0m \u001b[0mresult\u001b[0m\u001b[0;34m)\u001b[0m\u001b[0;34m:\u001b[0m\u001b[0;34m\u001b[0m\u001b[0m\n\u001b[0;32m-> 2924\u001b[0;31m       \u001b[0mnext_vars\u001b[0m\u001b[0;34m.\u001b[0m\u001b[0mappend\u001b[0m\u001b[0;34m(\u001b[0m\u001b[0m_AddNextAndBackEdge\u001b[0m\u001b[0;34m(\u001b[0m\u001b[0mm\u001b[0m\u001b[0;34m,\u001b[0m \u001b[0mv\u001b[0m\u001b[0;34m)\u001b[0m\u001b[0;34m)\u001b[0m\u001b[0;34m\u001b[0m\u001b[0m\n\u001b[0m\u001b[1;32m   2925\u001b[0m \u001b[0;34m\u001b[0m\u001b[0m\n\u001b[1;32m   2926\u001b[0m     \u001b[0;31m# Add the exit ops.\u001b[0m\u001b[0;34m\u001b[0m\u001b[0;34m\u001b[0m\u001b[0m\n",
      "\u001b[0;32m/anaconda3/lib/python3.6/site-packages/tensorflow/python/ops/control_flow_ops.py\u001b[0m in \u001b[0;36m_AddNextAndBackEdge\u001b[0;34m(m, v, enforce_shape_invariant)\u001b[0m\n\u001b[1;32m    664\u001b[0m       \u001b[0;31m# the types don't match.\u001b[0m\u001b[0;34m\u001b[0m\u001b[0;34m\u001b[0m\u001b[0m\n\u001b[1;32m    665\u001b[0m       \u001b[0;31m# TODO(skyewm): call this for other cases below (needs testing)\u001b[0m\u001b[0;34m\u001b[0m\u001b[0;34m\u001b[0m\u001b[0m\n\u001b[0;32m--> 666\u001b[0;31m       \u001b[0m_EnforceShapeInvariant\u001b[0m\u001b[0;34m(\u001b[0m\u001b[0mm\u001b[0m\u001b[0;34m,\u001b[0m \u001b[0mv\u001b[0m\u001b[0;34m)\u001b[0m\u001b[0;34m\u001b[0m\u001b[0m\n\u001b[0m\u001b[1;32m    667\u001b[0m     \u001b[0mm\u001b[0m\u001b[0;34m.\u001b[0m\u001b[0mop\u001b[0m\u001b[0;34m.\u001b[0m\u001b[0m_update_input\u001b[0m\u001b[0;34m(\u001b[0m\u001b[0;36m1\u001b[0m\u001b[0;34m,\u001b[0m \u001b[0mv\u001b[0m\u001b[0;34m)\u001b[0m  \u001b[0;31m# pylint: disable=protected-access\u001b[0m\u001b[0;34m\u001b[0m\u001b[0m\n\u001b[1;32m    668\u001b[0m   \u001b[0;32melif\u001b[0m \u001b[0misinstance\u001b[0m\u001b[0;34m(\u001b[0m\u001b[0mm\u001b[0m\u001b[0;34m,\u001b[0m \u001b[0mops\u001b[0m\u001b[0;34m.\u001b[0m\u001b[0mIndexedSlices\u001b[0m\u001b[0;34m)\u001b[0m\u001b[0;34m:\u001b[0m\u001b[0;34m\u001b[0m\u001b[0m\n",
      "\u001b[0;32m/anaconda3/lib/python3.6/site-packages/tensorflow/python/ops/control_flow_ops.py\u001b[0m in \u001b[0;36m_EnforceShapeInvariant\u001b[0;34m(merge_var, next_var)\u001b[0m\n\u001b[1;32m    608\u001b[0m           \u001b[0;34m\"use the `shape_invariants` argument of tf.while_loop to specify a \"\u001b[0m\u001b[0;34m\u001b[0m\u001b[0m\n\u001b[1;32m    609\u001b[0m           \u001b[0;34m\"less-specific shape.\"\u001b[0m \u001b[0;34m%\u001b[0m\u001b[0;34m\u001b[0m\u001b[0m\n\u001b[0;32m--> 610\u001b[0;31m           (input_t.name, input_t.shape, n_shape))\n\u001b[0m\u001b[1;32m    611\u001b[0m   \u001b[0;32melse\u001b[0m\u001b[0;34m:\u001b[0m\u001b[0;34m\u001b[0m\u001b[0m\n\u001b[1;32m    612\u001b[0m     \u001b[0;32mif\u001b[0m \u001b[0;32mnot\u001b[0m \u001b[0misinstance\u001b[0m\u001b[0;34m(\u001b[0m\u001b[0mvar\u001b[0m\u001b[0;34m,\u001b[0m \u001b[0;34m(\u001b[0m\u001b[0mops\u001b[0m\u001b[0;34m.\u001b[0m\u001b[0mIndexedSlices\u001b[0m\u001b[0;34m,\u001b[0m \u001b[0msparse_tensor\u001b[0m\u001b[0;34m.\u001b[0m\u001b[0mSparseTensor\u001b[0m\u001b[0;34m)\u001b[0m\u001b[0;34m)\u001b[0m\u001b[0;34m:\u001b[0m\u001b[0;34m\u001b[0m\u001b[0m\n",
      "\u001b[0;31mValueError\u001b[0m: Input tensor 'position_0_3/read:0' enters the loop with shape (), but has shape <unknown> after one iteration. To allow the shape to vary across iterations, use the `shape_invariants` argument of tf.while_loop to specify a less-specific shape."
     ]
    }
   ],
   "source": [
    "def potential_and_grad(position, k=np.float64(0.0)):\n",
    "    #function that returns the potential and it's gradient at a given position\n",
    "    return 0.5 * tf.multiply(k,tf.square(position)), tf.multiply(k,position)\n",
    "\n",
    "np.random.seed(1)\n",
    "position_val = np.float64(np.random.randn(n_shos))\n",
    "momentum_val = np.float64(np.random.randn(n_shos))\n",
    "\n",
    "\n",
    "#create placeholders for initial position and momentum to define model\n",
    "position_0 = tf.Variable(position_val, dtype=np.float64, name='position_0')\n",
    "momentum_0 = tf.Variable(momentum_val, dtype=np.float64, name='momentum_0')\n",
    "k          = tf.Variable(k_val, dtype=np.float64, name = 'k')\n",
    "\n",
    "dt       = tf.Variable(0.0, dtype=np.float64, name='dt')\n",
    "step_size  = np.float64(0.01) #tf.placeholder(np.float32, name='step_size')\n",
    "#grad     = tf.placeholder(np.float32, name='grad')\n",
    "\n",
    "#new_ means model which you generated with placeholders, _val means instantiated value where you feed in param values\n",
    "\n",
    "#define potential\n",
    "\n",
    "new_potential, new_grad = potential_and_grad(position, k=k)\n",
    "\n",
    "#define model, leapfrog_integrator is from hmc tensorflow stuff\n",
    "\n",
    "new_position, new_momentum, new_potential, new_grad, x, v = tflf.leapfrog_integrator(\n",
    "    step_size, dt, position_0, momentum_0, potential_and_grad, new_grad)\n",
    "\n",
    "#start session\n",
    "sess = tf.Session()\n",
    "\n",
    "#calculate potential and gradient at these random positions \n",
    "potential_val, grad_val = sess.run([new_potential, new_grad],\n",
    "                                 feed_dict={position_0: position_val, k: k_val})\n",
    "\n",
    "#generate arrays to save values from model\n",
    "positions = np.zeros([nobspoints, n_shos])\n",
    "momenta   = np.zeros([nobspoints, n_shos])\n",
    "grad      = np.zeros([nobspoints, n_shos])\n",
    "potential = np.zeros([nobspoints, n_shos])\n",
    "\n",
    "#run model on random initial positions and momenta\n",
    "t_previous = 0.0\n",
    "for i, t in enumerate(t_obs):\n",
    "    print(t, t_previous)\n",
    "    deltat = np.float64(t - t_previous)\n",
    "    print(deltat)\n",
    "    position_val, momentum_val, potential_val, grad_val, x_val, v_val = sess.run(\n",
    "  [new_position, new_momentum, new_potential, new_grad, x, v],\n",
    "  feed_dict = {position_0: position_val, momentum_0: momentum_val, \n",
    "               k: k_val, dt: deltat})#, grad:grad_val})\n",
    "    positions[i] = x_val\n",
    "    momenta[i] = v_val\n",
    "    grad[i] = grad_val\n",
    "    potential[i] = potential_val\n",
    "    t_previous = t\n",
    "\n",
    "# Plot positions and momenta \n",
    "fig, ax = plt.subplots(1,4, figsize=(10, 4))\n",
    "ax[0].plot(t_obs, positions, 'o')\n",
    "ax[0].plot(t_obs, xleap, 'ko')\n",
    "ax[0].set_xlabel('t')\n",
    "ax[0].set_ylabel('x')\n",
    "ax[1].set_xlabel('t')\n",
    "ax[1].set_ylabel('y')\n",
    "ax[1].plot(t_obs, momenta, 'o')\n",
    "ax[1].plot(t_obs, vleap, 'ko')\n",
    "ax[2].plot(t_obs, grad, 'o')\n",
    "ax[3].plot(t_obs, potential, 'o')\n",
    "plt.tight_layout()"
   ]
  },
  {
   "cell_type": "code",
   "execution_count": 16,
   "metadata": {},
   "outputs": [
    {
     "data": {
      "text/plain": [
       "dtype('float64')"
      ]
     },
     "execution_count": 16,
     "metadata": {},
     "output_type": "execute_result"
    }
   ],
   "source": [
    "momentum_val.dtype"
   ]
  },
  {
   "cell_type": "code",
   "execution_count": 13,
   "metadata": {},
   "outputs": [
    {
     "ename": "NameError",
     "evalue": "name 'positions' is not defined",
     "output_type": "error",
     "traceback": [
      "\u001b[0;31m---------------------------------------------------------------------------\u001b[0m",
      "\u001b[0;31mNameError\u001b[0m                                 Traceback (most recent call last)",
      "\u001b[0;32m<ipython-input-13-db0a377bac7d>\u001b[0m in \u001b[0;36m<module>\u001b[0;34m()\u001b[0m\n\u001b[1;32m      1\u001b[0m \u001b[0;31m# Plot positions and momenta\u001b[0m\u001b[0;34m\u001b[0m\u001b[0;34m\u001b[0m\u001b[0m\n\u001b[1;32m      2\u001b[0m \u001b[0mfig\u001b[0m\u001b[0;34m,\u001b[0m \u001b[0max\u001b[0m \u001b[0;34m=\u001b[0m \u001b[0mplt\u001b[0m\u001b[0;34m.\u001b[0m\u001b[0msubplots\u001b[0m\u001b[0;34m(\u001b[0m\u001b[0;36m1\u001b[0m\u001b[0;34m,\u001b[0m\u001b[0;36m2\u001b[0m\u001b[0;34m,\u001b[0m \u001b[0mfigsize\u001b[0m\u001b[0;34m=\u001b[0m\u001b[0;34m(\u001b[0m\u001b[0;36m8\u001b[0m\u001b[0;34m,\u001b[0m \u001b[0;36m4\u001b[0m\u001b[0;34m)\u001b[0m\u001b[0;34m)\u001b[0m\u001b[0;34m\u001b[0m\u001b[0m\n\u001b[0;32m----> 3\u001b[0;31m \u001b[0max\u001b[0m\u001b[0;34m[\u001b[0m\u001b[0;36m0\u001b[0m\u001b[0;34m]\u001b[0m\u001b[0;34m.\u001b[0m\u001b[0mplot\u001b[0m\u001b[0;34m(\u001b[0m\u001b[0mt_obs\u001b[0m\u001b[0;34m,\u001b[0m \u001b[0mpositions\u001b[0m \u001b[0;34m-\u001b[0m \u001b[0mxleap\u001b[0m\u001b[0;34m,\u001b[0m \u001b[0;34m'o'\u001b[0m\u001b[0;34m)\u001b[0m\u001b[0;34m\u001b[0m\u001b[0m\n\u001b[0m\u001b[1;32m      4\u001b[0m \u001b[0;34m\u001b[0m\u001b[0m\n\u001b[1;32m      5\u001b[0m \u001b[0max\u001b[0m\u001b[0;34m[\u001b[0m\u001b[0;36m0\u001b[0m\u001b[0;34m]\u001b[0m\u001b[0;34m.\u001b[0m\u001b[0mset_xlabel\u001b[0m\u001b[0;34m(\u001b[0m\u001b[0;34m't'\u001b[0m\u001b[0;34m)\u001b[0m\u001b[0;34m\u001b[0m\u001b[0m\n",
      "\u001b[0;31mNameError\u001b[0m: name 'positions' is not defined"
     ]
    },
    {
     "data": {
      "image/png": "[encoded data removed]",
      "text/plain": [
       "<matplotlib.figure.Figure at 0x1c2214ef98>"
      ]
     },
     "metadata": {},
     "output_type": "display_data"
    }
   ],
   "source": [
    "# Plot positions and momenta \n",
    "fig, ax = plt.subplots(1,2, figsize=(8, 4))\n",
    "ax[0].plot(t_obs, positions - xleap, 'o')\n",
    "\n",
    "ax[0].set_xlabel('t')\n",
    "ax[0].set_ylabel('x')\n",
    "ax[1].set_xlabel('t')\n",
    "ax[1].set_ylabel('y')\n",
    "ax[1].plot(t_obs, momenta - vleap, 'o')\n",
    "plt.tight_layout()"
   ]
  },
  {
   "cell_type": "code",
   "execution_count": null,
   "metadata": {
    "collapsed": true
   },
   "outputs": [],
   "source": []
  }
 ],
 "metadata": {
  "kernelspec": {
   "display_name": "Python 3",
   "language": "python",
   "name": "python3"
  },
  "language_info": {
   "codemirror_mode": {
    "name": "ipython",
    "version": 3
   },
   "file_extension": ".py",
   "mimetype": "text/x-python",
   "name": "python",
   "nbconvert_exporter": "python",
   "pygments_lexer": "ipython3",
   "version": "3.6.3"
  }
 },
 "nbformat": 4,
 "nbformat_minor": 2
}
