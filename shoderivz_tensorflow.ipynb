{
 "cells": [
  {
   "cell_type": "markdown",
   "metadata": {},
   "source": [
    "## Integrating a simple harmonic oscillator and trying to infer the spring constant"
   ]
  },
  {
   "cell_type": "code",
   "execution_count": 1,
   "metadata": {
    "collapsed": true
   },
   "outputs": [],
   "source": [
    "import numpy as np\n",
    "import matplotlib.pyplot as plt\n",
    "from scipy.interpolate import InterpolatedUnivariateSpline\n",
    "import scipy.optimize as so\n",
    "%matplotlib inline\n",
    "import autograd.numpy as np  # Thinly-wrapped numpy\n",
    "from autograd import grad  \n"
   ]
  },
  {
   "cell_type": "code",
   "execution_count": 2,
   "metadata": {
    "collapsed": true
   },
   "outputs": [],
   "source": [
    "%load_ext autoreload\n",
    "%autoreload 2"
   ]
  },
  {
   "cell_type": "code",
   "execution_count": 3,
   "metadata": {
    "collapsed": true
   },
   "outputs": [],
   "source": [
    "import tensorflow as tf\n",
    "session = tf.get_default_session()\n",
    "if session is None:\n",
    "    session = tf.InteractiveSession()\n",
    "\n",
    "import theano\n",
    "import theano.tensor as tt\n",
    "\n",
    "def _to_tensor_type(shape):\n",
    "    return tt.TensorType(dtype=\"float64\", broadcastable=[False]*len(shape))\n",
    "\n",
    "\n",
    "class TensorFlowOp(tt.Op):\n",
    "    \"\"\"A custom Theano Op uses TensorFlow as the computation engine\n",
    "    \n",
    "    Args:\n",
    "        target (Tensor): The TensorFlow tensor defining the output of\n",
    "            this operation\n",
    "        parameters (list(Tensor)): A list of TensorFlow tensors that\n",
    "            are inputs to this operation\n",
    "        names (Optional(list)): A list of names for the parameters.\n",
    "            These are the names that will be used within PyMC3\n",
    "        feed_dict (Optional(dict)): A \"feed_dict\" that is provided to\n",
    "            the TensorFlow session when the operation is executed\n",
    "        session (Optional): A TensorFlow session that can be used to\n",
    "            evaluate the operation\n",
    "    \n",
    "    \"\"\"\n",
    "    def __init__(self, target, parameters, names=None, feed_dict=None, session=None):\n",
    "        self.parameters = parameters\n",
    "        self.names = names\n",
    "        self._feed_dict = dict() if feed_dict is None else feed_dict\n",
    "        self._session = session\n",
    "        self.target = target\n",
    "        \n",
    "        # Execute the operation once to work out the shapes of the\n",
    "        # parameters and the target\n",
    "        in_values, out_value = self.session.run(\n",
    "            [self.parameters, self.target], feed_dict=self._feed_dict)\n",
    "        self.shapes = [np.shape(v) for v in in_values]\n",
    "        self.output_shape = np.shape(out_value)\n",
    "        \n",
    "        # Based on this result, work out the shapes that the Theano op\n",
    "        # will take in and return\n",
    "        self.itypes = tuple([_to_tensor_type(shape) for shape in self.shapes])\n",
    "        self.otypes = tuple([_to_tensor_type(self.output_shape)])\n",
    "        \n",
    "        # Build another custom op to represent the gradient (see below)\n",
    "        self._grad_op = _TensorFlowGradOp(self)\n",
    "\n",
    "    @property\n",
    "    def session(self):\n",
    "        \"\"\"The TensorFlow session associated with this operation\"\"\"\n",
    "        if self._session is None:\n",
    "            self._session = tf.get_default_session()\n",
    "        return self._session\n",
    "    \n",
    "    def get_feed_dict(self, sample):\n",
    "        \"\"\"Get the TensorFlow feed_dict for a given sample\n",
    "        \n",
    "        This method will only work when a value for ``names`` was provided\n",
    "        during instantiation.\n",
    "        \n",
    "        sample (dict): The specification of a specific sample in the chain\n",
    "        \n",
    "        \"\"\"\n",
    "        if self.names is None:\n",
    "            raise RuntimeError(\"'names' must be set in order to get the feed_dict\")\n",
    "        return dict(((param, sample[name])\n",
    "                     for name, param in zip(self.names, self.parameters)),\n",
    "                    **self._feed_dict)\n",
    "    \n",
    "    def infer_shape(self, node, shapes):\n",
    "        \"\"\"A required method that returns the shape of the output\"\"\"\n",
    "        return self.output_shape,\n",
    "\n",
    "    def perform(self, node, inputs, outputs):\n",
    "        \"\"\"A required method that actually executes the operation\"\"\"\n",
    "        # To execute the operation using TensorFlow we must map the inputs from\n",
    "        # Theano to the TensorFlow parameter using a \"feed_dict\"\n",
    "        feed_dict = dict(zip(self.parameters, inputs), **self._feed_dict)\n",
    "        outputs[0][0] = np.array(self.session.run(self.target, feed_dict=feed_dict))\n",
    "\n",
    "    def grad(self, inputs, gradients):\n",
    "        \"\"\"A method that returns Theano op to compute the gradient\n",
    "        \n",
    "        In this case, we use another custom op (see the definition below).\n",
    "        \n",
    "        \"\"\"\n",
    "        op = self._grad_op(*(inputs + gradients))\n",
    "        # This hack seems to be required for ops with a single input\n",
    "        if not isinstance(op, (list, tuple)):\n",
    "            return [op]\n",
    "        return op\n",
    "\n",
    "class _TensorFlowGradOp(tt.Op):\n",
    "    \"\"\"A custom Theano Op defining the gradient of a TensorFlowOp\n",
    "    \n",
    "    Args:\n",
    "        base_op (TensorFlowOp): The original Op\n",
    "    \n",
    "    \"\"\"\n",
    "    def __init__(self, base_op):\n",
    "        self.base_op = base_op\n",
    "        \n",
    "        # Build the TensorFlow operation to apply the reverse mode\n",
    "        # autodiff for this operation\n",
    "        # The placeholder is used to include the gradient of the\n",
    "        # output as a seed\n",
    "        self.dy = tf.placeholder(tf.float64, base_op.output_shape)\n",
    "        self.grad_target = tf.gradients(base_op.target,\n",
    "                                        base_op.parameters,\n",
    "                                        grad_ys=self.dy)\n",
    "\n",
    "        # This operation will take the original inputs and the gradient\n",
    "        # seed as input\n",
    "        types = [_to_tensor_type(shape) for shape in base_op.shapes]\n",
    "        self.itypes = tuple(types + [_to_tensor_type(base_op.output_shape)])\n",
    "        self.otypes = tuple(types)\n",
    " \n",
    "    def infer_shape(self, node, shapes):\n",
    "        return self.base_op.shapes\n",
    "\n",
    "    def perform(self, node, inputs, outputs):\n",
    "        feed_dict = dict(zip(self.base_op.parameters, inputs[:-1]),\n",
    "                         **self.base_op._feed_dict)\n",
    "        feed_dict[self.dy] = inputs[-1]\n",
    "        result = self.base_op.session.run(self.grad_target, feed_dict=feed_dict)\n",
    "        for i, r in enumerate(result):\n",
    "            outputs[i][0] = np.array(r)"
   ]
  },
  {
   "cell_type": "code",
   "execution_count": 4,
   "metadata": {
    "collapsed": true
   },
   "outputs": [],
   "source": [
    "def genData(x, v, npoints, std_noise_x, std_noise_v):\n",
    "    noise_x = np.random.normal(0, std_noise_x, len(x))\n",
    "    noise_v = np.random.normal(0, std_noise_v, len(x))\n",
    "    return noise_x + x, noise_v + v"
   ]
  },
  {
   "cell_type": "code",
   "execution_count": 5,
   "metadata": {
    "collapsed": true
   },
   "outputs": [],
   "source": [
    "def ln_likelihood(theta, data, dt_model):\n",
    "    chi2 = 0\n",
    "    k, x0, v0, *t_obs = theta\n",
    "    x_obs, v_obs, sigma_x, sigma_v = data\n",
    "    x, v = leapfrog(x0, v0, np.array(t_obs), phi_grad, dt, k=k)\n",
    "    chi2 += -(v - v_obs)**2 / sigma_v**2 - 2*np.log(sigma_v)\n",
    "    chi2 += -(x - x_obs)**2 / sigma_x**2 - 2*np.log(sigma_x)\n",
    "    return 0.5*chi2.sum()"
   ]
  },
  {
   "cell_type": "code",
   "execution_count": 6,
   "metadata": {
    "collapsed": true
   },
   "outputs": [],
   "source": [
    "np.random.seed(42)"
   ]
  },
  {
   "cell_type": "code",
   "execution_count": 7,
   "metadata": {
    "collapsed": true
   },
   "outputs": [],
   "source": [
    "x0_true   = 100.\n",
    "v0_true   = 100.\n",
    "k_true    = 10.\n",
    "\n",
    "dt        = 0.01\n",
    "max_time  = 5.\n",
    "\n",
    "nobspoints = 30\n",
    "std_noise_x = 10.0\n",
    "std_noise_v = 10.0\n",
    "\n",
    "plot_xerr = np.zeros(nobspoints) + std_noise_x\n",
    "plot_yerr = np.zeros(nobspoints) + std_noise_v\n",
    "t_obs_true = np.random.uniform(0, max_time, nobspoints)\n",
    "t_obs_true.sort()\n",
    "\n",
    "#assert nmodelpoints > nobspoints, 'The number of model points must be greater than the number of observed points'"
   ]
  },
  {
   "cell_type": "code",
   "execution_count": 8,
   "metadata": {},
   "outputs": [
    {
     "ename": "NameError",
     "evalue": "name 'leapfrog' is not defined",
     "output_type": "error",
     "traceback": [
      "\u001b[0;31m---------------------------------------------------------------------------\u001b[0m",
      "\u001b[0;31mNameError\u001b[0m                                 Traceback (most recent call last)",
      "\u001b[0;32m<ipython-input-8-b6375f38ea4b>\u001b[0m in \u001b[0;36m<module>\u001b[0;34m()\u001b[0m\n\u001b[1;32m      1\u001b[0m \u001b[0;31m#generate true values and noisify them\u001b[0m\u001b[0;34m\u001b[0m\u001b[0;34m\u001b[0m\u001b[0m\n\u001b[0;32m----> 2\u001b[0;31m \u001b[0mx_true\u001b[0m\u001b[0;34m,\u001b[0m \u001b[0mv_true\u001b[0m \u001b[0;34m=\u001b[0m \u001b[0mleapfrog\u001b[0m\u001b[0;34m(\u001b[0m\u001b[0mx0_true\u001b[0m\u001b[0;34m,\u001b[0m \u001b[0mv0_true\u001b[0m\u001b[0;34m,\u001b[0m \u001b[0mt_obs_true\u001b[0m\u001b[0;34m,\u001b[0m \u001b[0mphi_grad\u001b[0m\u001b[0;34m,\u001b[0m \u001b[0mdt\u001b[0m\u001b[0;34m,\u001b[0m \u001b[0mk\u001b[0m\u001b[0;34m=\u001b[0m\u001b[0mk_true\u001b[0m\u001b[0;34m)\u001b[0m\u001b[0;34m\u001b[0m\u001b[0m\n\u001b[0m\u001b[1;32m      3\u001b[0m \u001b[0mx_obs\u001b[0m\u001b[0;34m,\u001b[0m \u001b[0mv_obs\u001b[0m \u001b[0;34m=\u001b[0m \u001b[0mgenData\u001b[0m\u001b[0;34m(\u001b[0m\u001b[0mx_true\u001b[0m\u001b[0;34m,\u001b[0m \u001b[0mv_true\u001b[0m\u001b[0;34m,\u001b[0m \u001b[0mnobspoints\u001b[0m\u001b[0;34m,\u001b[0m \u001b[0mstd_noise_x\u001b[0m\u001b[0;34m,\u001b[0m \u001b[0mstd_noise_v\u001b[0m\u001b[0;34m)\u001b[0m\u001b[0;34m\u001b[0m\u001b[0m\n\u001b[1;32m      4\u001b[0m \u001b[0mplt\u001b[0m\u001b[0;34m.\u001b[0m\u001b[0mplot\u001b[0m\u001b[0;34m(\u001b[0m\u001b[0mt_obs_true\u001b[0m\u001b[0;34m,\u001b[0m \u001b[0mv_obs\u001b[0m\u001b[0;34m,\u001b[0m \u001b[0;34m'k'\u001b[0m\u001b[0;34m)\u001b[0m\u001b[0;34m\u001b[0m\u001b[0m\n\u001b[1;32m      5\u001b[0m \u001b[0;31m#plt.plot(t_obs_true, x_obs, 'k')\u001b[0m\u001b[0;34m\u001b[0m\u001b[0;34m\u001b[0m\u001b[0m\n",
      "\u001b[0;31mNameError\u001b[0m: name 'leapfrog' is not defined"
     ]
    }
   ],
   "source": [
    "#generate true values and noisify them\n",
    "x_true, v_true = leapfrog(x0_true, v0_true, t_obs_true, phi_grad, dt, k=k_true)\n",
    "x_obs, v_obs = genData(x_true, v_true, nobspoints, std_noise_x, std_noise_v)\n",
    "plt.plot(t_obs_true, v_obs, 'k')\n",
    "#plt.plot(t_obs_true, x_obs, 'k')\n",
    "#v_obs += 1000\n",
    "plt.plot(t_obs_true, v_obs, 'bo')\n",
    "#plt.plot(t_obs_true, x_obs, 'bo')"
   ]
  },
  {
   "cell_type": "code",
   "execution_count": null,
   "metadata": {
    "collapsed": true
   },
   "outputs": [],
   "source": [
    "#assert np.allclose(t_true, t_obs), 'Observed times and integrated times are not the same'"
   ]
  },
  {
   "cell_type": "code",
   "execution_count": null,
   "metadata": {
    "collapsed": true
   },
   "outputs": [],
   "source": [
    "data   = [x_obs, v_obs, std_noise_x, std_noise_v]\n",
    "p_true = [k_true, x0_true, v0_true, t_obs_true]\n",
    "k_guess = k_true  + np.random.normal(0, k_true)\n",
    "x0_guess = x0_true + np.random.normal(0, std_noise_x)\n",
    "v0_guess = v0_true + np.random.normal(0, std_noise_v)\n",
    "t0_guess = t_obs_true + np.random.normal(0, 1., len(t_obs_true))\n",
    "p0     = [k_guess, \n",
    "          x0_guess, \n",
    "          v0_guess] + (t0_guess).tolist()\n",
    "args   = (data, dt)\n",
    "\n",
    "#for plotting purposes\n",
    "t_compare = np.linspace(0, max_time, 1000)"
   ]
  },
  {
   "cell_type": "code",
   "execution_count": 9,
   "metadata": {},
   "outputs": [],
   "source": [
    "import tensorflow as tf\n",
    "from tensorflow.contrib.bayesflow.python.ops.hmc_impl import *"
   ]
  },
  {
   "cell_type": "code",
   "execution_count": 10,
   "metadata": {},
   "outputs": [
    {
     "data": {
      "text/plain": [
       "[<matplotlib.lines.Line2D at 0x12fd6eb38>]"
      ]
     },
     "execution_count": 10,
     "metadata": {},
     "output_type": "execute_result"
    },
    {
     "data": {
      "image/png": "[encoded data removed]",
      "text/plain": [
       "<matplotlib.figure.Figure at 0x12fc7ab00>"
      ]
     },
     "metadata": {},
     "output_type": "display_data"
    }
   ],
   "source": [
    "def potential_and_grad(position):\n",
    "    return tf.reduce_sum(0.5 * tf.square(position)), position\n",
    "position = tf.placeholder(np.float32)\n",
    "momentum = tf.placeholder(np.float32)\n",
    "potential, grad = potential_and_grad(position)\n",
    "new_position, new_momentum, new_potential, new_grad = leapfrog_integrator(\n",
    "0.1, 3, position, momentum, potential_and_grad, grad)\n",
    "sess = tf.Session()\n",
    "position_val = np.random.randn(10)\n",
    "momentum_val = np.random.randn(10)\n",
    "potential_val, grad_val = sess.run([potential, grad],\n",
    "                                 {position: position_val})\n",
    "positions = np.zeros([100, 10])\n",
    "for i in range(100):\n",
    "    position_val, momentum_val, potential_val, grad_val = sess.run(\n",
    "  [new_position, new_momentum, new_potential, new_grad],\n",
    "  {position: position_val, momentum: momentum_val})\n",
    "    positions[i] = position_val\n",
    "# Should trace out sinusoidal dynamics.\n",
    "plt.plot(positions[:, 0])\n"
   ]
  },
  {
   "cell_type": "code",
   "execution_count": 40,
   "metadata": {},
   "outputs": [
    {
     "name": "stdout",
     "output_type": "stream",
     "text": [
      "[ 0.27437139  0.37353125  1.81244159  2.50440931  0.37023968  5.3151989\n",
      "  0.70818257  3.12555575  1.13702524  1.30462515] [-1.65641594  1.93269563 -4.25727797  5.00440693 -1.92416131  7.2905407\n",
      " -2.66117001  5.59066725  3.37198043 -3.61195946]\n",
      "(10,)\n"
     ]
    },
    {
     "data": {
      "image/png": "[encoded data removed]",
      "text/plain": [
       "<matplotlib.figure.Figure at 0x132004b00>"
      ]
     },
     "metadata": {},
     "output_type": "display_data"
    }
   ],
   "source": [
    "def potential_and_grad(position, k=0.0):\n",
    "    #function that returns the potential and it's gradient at a given position\n",
    "    return 0.5 * tf.multiply(k,tf.square(position)), tf.multiply(k,position)\n",
    "\n",
    "#create placeholders for initial position and momentum to define model\n",
    "position = tf.placeholder(np.float32)\n",
    "momentum = tf.placeholder(np.float32)\n",
    "\n",
    "#define potential\n",
    "k = tf.placeholder(np.float32)\n",
    "potential, grad = potential_and_grad(position, k=k)\n",
    "\n",
    "#define step size of each leap and number of leaps\n",
    "step_size = 0.01\n",
    "n_steps = 10\n",
    "n_shos = 10\n",
    "#define model, leapfrog_integrator is from hmc tensorflow stuff\n",
    "new_position, new_momentum, new_potential, new_grad = leapfrog_integrator(\n",
    "step_size, n_steps, position, momentum, potential_and_grad, grad)\n",
    "\n",
    "#start session\n",
    "sess = tf.Session()\n",
    "\n",
    "#generate initial velocities and momenta\n",
    "position_val = np.random.randn(n_shos)\n",
    "momentum_val = np.random.randn(n_shos)\n",
    "k_val = np.float32(5.0)\n",
    "#calculate potential and gradient at these random positions \n",
    "potential_val, grad_val = sess.run([potential, grad],\n",
    "                                 {position: position_val, k:k_val})\n",
    "print(potential_val, grad_val)\n",
    "#generate arrays to save values from model\n",
    "nruns = 100\n",
    "positions = np.zeros([nruns, n_shos])\n",
    "momenta   = np.zeros([nruns, n_shos])\n",
    "grad      = np.zeros([nruns, n_shos])\n",
    "potential = np.zeros([nruns, n_shos])\n",
    "\n",
    "#run model on random initial positions and momenta\n",
    "\n",
    "for i in range(nruns):\n",
    "    position_val, momentum_val, potential_val, grad_val = sess.run(\n",
    "  [new_position, new_momentum, new_potential, new_grad],\n",
    "  {position: position_val, momentum: momentum_val, k:k_val})\n",
    "\n",
    "    #print(position_val.shape)\n",
    "    positions[i] = position_val\n",
    "    momenta[i] = momentum_val\n",
    "    grad[i] = grad_val\n",
    "    potential[i] = potential_val\n",
    "# Plot positions and momenta \n",
    "fig, ax = plt.subplots(1,4)\n",
    "ax[0].plot(positions)\n",
    "ax[0].set_xlabel('t')\n",
    "ax[0].set_ylabel('x')\n",
    "ax[1].set_xlabel('t')\n",
    "ax[1].set_ylabel('y')\n",
    "ax[1].plot(momenta)\n",
    "ax[2].plot(grad)\n",
    "ax[3].plot(potential)\n",
    "#plt.title('Its working!!')\n",
    "plt.tight_layout()\n",
    "\n",
    "print(position_val.shape)\n",
    "#potential_val, grad_val = sess.run([potential, grad],\n",
    "#                                 {position: position_val, k:k_val})\n"
   ]
  },
  {
   "cell_type": "code",
   "execution_count": 12,
   "metadata": {},
   "outputs": [
    {
     "data": {
      "text/plain": [
       "array([-0.07201012,  1.0035329 ,  0.36163603, -0.64511975,  0.36139561,\n",
       "        1.53803657, -0.03582604,  1.56464366, -2.6197451 ,  0.8219025 ])"
      ]
     },
     "execution_count": 12,
     "metadata": {},
     "output_type": "execute_result"
    }
   ],
   "source": [
    "np.random.randn(10)"
   ]
  },
  {
   "cell_type": "code",
   "execution_count": 13,
   "metadata": {},
   "outputs": [
    {
     "ename": "NameError",
     "evalue": "name 'v' is not defined",
     "output_type": "error",
     "traceback": [
      "\u001b[0;31m---------------------------------------------------------------------------\u001b[0m",
      "\u001b[0;31mNameError\u001b[0m                                 Traceback (most recent call last)",
      "\u001b[0;32m<ipython-input-13-845cf9123c3b>\u001b[0m in \u001b[0;36m<module>\u001b[0;34m()\u001b[0m\n\u001b[1;32m     51\u001b[0m     \u001b[0mmomenta\u001b[0m\u001b[0;34m[\u001b[0m\u001b[0mi\u001b[0m\u001b[0;34m]\u001b[0m \u001b[0;34m=\u001b[0m \u001b[0mmomentum_val\u001b[0m\u001b[0;34m\u001b[0m\u001b[0m\n\u001b[1;32m     52\u001b[0m \u001b[0;34m\u001b[0m\u001b[0m\n\u001b[0;32m---> 53\u001b[0;31m \u001b[0mloglike\u001b[0m \u001b[0;34m=\u001b[0m \u001b[0;34m-\u001b[0m\u001b[0;36m0.5\u001b[0m \u001b[0;34m*\u001b[0m \u001b[0mtf\u001b[0m\u001b[0;34m.\u001b[0m\u001b[0mreduce_sum\u001b[0m\u001b[0;34m(\u001b[0m\u001b[0mtf\u001b[0m\u001b[0;34m.\u001b[0m\u001b[0msquare\u001b[0m\u001b[0;34m(\u001b[0m\u001b[0mv\u001b[0m \u001b[0;34m-\u001b[0m \u001b[0mv_obs_tensor\u001b[0m\u001b[0;34m)\u001b[0m\u001b[0;34m)\u001b[0m \u001b[0;34m*\u001b[0m \u001b[0mtf\u001b[0m\u001b[0;34m.\u001b[0m\u001b[0mexp\u001b[0m\u001b[0;34m(\u001b[0m\u001b[0;34m-\u001b[0m\u001b[0;36m2\u001b[0m\u001b[0;34m*\u001b[0m\u001b[0mlogsv_tensor\u001b[0m\u001b[0;34m)\u001b[0m\u001b[0;34m\u001b[0m\u001b[0m\n\u001b[0m\u001b[1;32m     54\u001b[0m \u001b[0mloglike\u001b[0m \u001b[0;34m-=\u001b[0m \u001b[0;36m0.5\u001b[0m \u001b[0;34m*\u001b[0m \u001b[0mN\u001b[0m \u001b[0;34m*\u001b[0m \u001b[0mlogsv_tensor\u001b[0m\u001b[0;34m\u001b[0m\u001b[0m\n\u001b[1;32m     55\u001b[0m \u001b[0mloglike\u001b[0m \u001b[0;34m-=\u001b[0m \u001b[0;36m0.5\u001b[0m \u001b[0;34m*\u001b[0m \u001b[0mtf\u001b[0m\u001b[0;34m.\u001b[0m\u001b[0mreduce_sum\u001b[0m\u001b[0;34m(\u001b[0m\u001b[0mtf\u001b[0m\u001b[0;34m.\u001b[0m\u001b[0msquare\u001b[0m\u001b[0;34m(\u001b[0m\u001b[0mx\u001b[0m \u001b[0;34m-\u001b[0m \u001b[0mx_obs_tensor\u001b[0m\u001b[0;34m)\u001b[0m\u001b[0;34m)\u001b[0m \u001b[0;34m*\u001b[0m \u001b[0mtf\u001b[0m\u001b[0;34m.\u001b[0m\u001b[0mexp\u001b[0m\u001b[0;34m(\u001b[0m\u001b[0;34m-\u001b[0m\u001b[0;36m2\u001b[0m\u001b[0;34m*\u001b[0m\u001b[0mlogsx_tensor\u001b[0m\u001b[0;34m)\u001b[0m\u001b[0;34m\u001b[0m\u001b[0m\n",
      "\u001b[0;31mNameError\u001b[0m: name 'v' is not defined"
     ]
    }
   ],
   "source": [
    "def potential_and_grad(position, k=0.0):\n",
    "    #function that returns the potential and it's gradient at a given position\n",
    "    return tf.reduce_sum(0.5 * tf.multiply(k,tf.square(position))), tf.multiply(k,position)\n",
    "\n",
    "#create placeholders for initial position and momentum to define model\n",
    "position = tf.placeholder(np.float32)\n",
    "momentum = tf.placeholder(np.float32)\n",
    "\n",
    "#define potential\n",
    "k = tf.placeholder(np.float32)\n",
    "potential, grad = potential_and_grad(position, k=k)\n",
    "\n",
    "#define step size of each leap and number of leaps\n",
    "step_size = 0.01      #resolution of each leap\n",
    "n_steps_per_run = 100 #resolution of returned values\n",
    "n_runs = 100          #duration of integration\n",
    "n_shos = 2            #number of simple harmonic oscillators \n",
    "\n",
    "#define model, leapfrog_integrator is from hmc tensorflow stuff\n",
    "new_position, new_momentum, new_potential, new_grad = leapfrog_integrator(\n",
    "step_size, n_steps_per_run, position, momentum, potential_and_grad, grad)\n",
    "\n",
    "#start session\n",
    "sess = tf.Session()\n",
    "\n",
    "#generate initial velocities and momenta\n",
    "np.random.seed(1)\n",
    "position_val = np.random.randn(n_shos)\n",
    "momentum_val = np.random.randn(n_shos)\n",
    "\n",
    "#generate times to observe SHO\n",
    "t_obs = np.random.uniform(0, max_time, nobspoints)\n",
    "t_obs.sort()\n",
    "\n",
    "k_val = np.float32(1.0)\n",
    "\n",
    "#calculate potential and gradient at these random positions \n",
    "potential_val, grad_val = sess.run([potential, grad],\n",
    "                                 feed_dict={position: position_val, k: k_val})\n",
    "\n",
    "#generate arrays to save values from model\n",
    "positions = np.zeros([n_runs, n_shos])\n",
    "momenta   = np.zeros([n_runs, n_shos])\n",
    "\n",
    "#run model on random initial positions and momenta\n",
    "for i in range(n_runs):\n",
    "    position_val, momentum_val, potential_val, grad_val = sess.run(\n",
    "  [new_position, new_momentum, new_potential, new_grad],\n",
    "  feed_dict = {position: position_val, momentum: momentum_val, k: k_val})\n",
    "    positions[i] = position_val\n",
    "    momenta[i] = momentum_val\n",
    "\n",
    "loglike = -0.5 * tf.reduce_sum(tf.square(v - v_obs_tensor)) * tf.exp(-2*logsv_tensor)\n",
    "loglike -= 0.5 * N * logsv_tensor\n",
    "loglike -= 0.5 * tf.reduce_sum(tf.square(x - x_obs_tensor)) * tf.exp(-2*logsx_tensor)\n",
    "loglike -= 0.5 * N * logsx_tensor\n",
    "\n",
    "session.run(tf.global_variables_initializer())    \n",
    "\n",
    "# Plot positions and momenta \n",
    "#fig, ax = plt.subplots(1,2)\n",
    "#ax[0].plot(positions)\n",
    "#ax[0].set_xlabel('t')\n",
    "#ax[0].set_ylabel('x')\n",
    "#ax[1].set_xlabel('t')\n",
    "#ax[1].set_ylabel('y')\n",
    "#ax[1].plot(momenta)\n",
    "#plt.title('Its working!!')\n",
    "#plt.tight_layout()"
   ]
  },
  {
   "cell_type": "code",
   "execution_count": 15,
   "metadata": {},
   "outputs": [],
   "source": [
    "import tfleapfrog as tflf"
   ]
  },
  {
   "cell_type": "code",
   "execution_count": 17,
   "metadata": {},
   "outputs": [
    {
     "data": {
      "text/plain": [
       "0.01"
      ]
     },
     "execution_count": 17,
     "metadata": {},
     "output_type": "execute_result"
    }
   ],
   "source": [
    "dt"
   ]
  },
  {
   "cell_type": "code",
   "execution_count": 16,
   "metadata": {},
   "outputs": [
    {
     "ename": "TypeError",
     "evalue": "Cannot interpret feed_dict key as Tensor: Can not convert a float into a Tensor.",
     "output_type": "error",
     "traceback": [
      "\u001b[0;31m---------------------------------------------------------------------------\u001b[0m",
      "\u001b[0;31mTypeError\u001b[0m                                 Traceback (most recent call last)",
      "\u001b[0;32m/anaconda3/lib/python3.6/site-packages/tensorflow/python/client/session.py\u001b[0m in \u001b[0;36m_run\u001b[0;34m(self, handle, fetches, feed_dict, options, run_metadata)\u001b[0m\n\u001b[1;32m   1079\u001b[0m             subfeed_t = self.graph.as_graph_element(\n\u001b[0;32m-> 1080\u001b[0;31m                 subfeed, allow_tensor=True, allow_operation=False)\n\u001b[0m\u001b[1;32m   1081\u001b[0m           \u001b[0;32mexcept\u001b[0m \u001b[0mException\u001b[0m \u001b[0;32mas\u001b[0m \u001b[0me\u001b[0m\u001b[0;34m:\u001b[0m\u001b[0;34m\u001b[0m\u001b[0m\n",
      "\u001b[0;32m/anaconda3/lib/python3.6/site-packages/tensorflow/python/framework/ops.py\u001b[0m in \u001b[0;36mas_graph_element\u001b[0;34m(self, obj, allow_tensor, allow_operation)\u001b[0m\n\u001b[1;32m   3458\u001b[0m     \u001b[0;32mwith\u001b[0m \u001b[0mself\u001b[0m\u001b[0;34m.\u001b[0m\u001b[0m_lock\u001b[0m\u001b[0;34m:\u001b[0m\u001b[0;34m\u001b[0m\u001b[0m\n\u001b[0;32m-> 3459\u001b[0;31m       \u001b[0;32mreturn\u001b[0m \u001b[0mself\u001b[0m\u001b[0;34m.\u001b[0m\u001b[0m_as_graph_element_locked\u001b[0m\u001b[0;34m(\u001b[0m\u001b[0mobj\u001b[0m\u001b[0;34m,\u001b[0m \u001b[0mallow_tensor\u001b[0m\u001b[0;34m,\u001b[0m \u001b[0mallow_operation\u001b[0m\u001b[0;34m)\u001b[0m\u001b[0;34m\u001b[0m\u001b[0m\n\u001b[0m\u001b[1;32m   3460\u001b[0m \u001b[0;34m\u001b[0m\u001b[0m\n",
      "\u001b[0;32m/anaconda3/lib/python3.6/site-packages/tensorflow/python/framework/ops.py\u001b[0m in \u001b[0;36m_as_graph_element_locked\u001b[0;34m(self, obj, allow_tensor, allow_operation)\u001b[0m\n\u001b[1;32m   3547\u001b[0m       raise TypeError(\"Can not convert a %s into a %s.\" % (type(obj).__name__,\n\u001b[0;32m-> 3548\u001b[0;31m                                                            types_str))\n\u001b[0m\u001b[1;32m   3549\u001b[0m \u001b[0;34m\u001b[0m\u001b[0m\n",
      "\u001b[0;31mTypeError\u001b[0m: Can not convert a float into a Tensor.",
      "\nDuring handling of the above exception, another exception occurred:\n",
      "\u001b[0;31mTypeError\u001b[0m                                 Traceback (most recent call last)",
      "\u001b[0;32m<ipython-input-16-ae8e364e862f>\u001b[0m in \u001b[0;36m<module>\u001b[0;34m()\u001b[0m\n\u001b[1;32m     54\u001b[0m     position_val, momentum_val, potential_val, grad_val = sess.run(\n\u001b[1;32m     55\u001b[0m   \u001b[0;34m[\u001b[0m\u001b[0mnew_position\u001b[0m\u001b[0;34m,\u001b[0m \u001b[0mnew_momentum\u001b[0m\u001b[0;34m,\u001b[0m \u001b[0mnew_potential\u001b[0m\u001b[0;34m,\u001b[0m \u001b[0mnew_grad\u001b[0m\u001b[0;34m]\u001b[0m\u001b[0;34m,\u001b[0m\u001b[0;34m\u001b[0m\u001b[0m\n\u001b[0;32m---> 56\u001b[0;31m   feed_dict = {position: position_val, momentum: momentum_val, k: k_val, dt: deltat})\n\u001b[0m\u001b[1;32m     57\u001b[0m     \u001b[0mpositions\u001b[0m\u001b[0;34m[\u001b[0m\u001b[0mi\u001b[0m\u001b[0;34m]\u001b[0m \u001b[0;34m=\u001b[0m \u001b[0mposition_val\u001b[0m\u001b[0;34m\u001b[0m\u001b[0m\n\u001b[1;32m     58\u001b[0m     \u001b[0mmomenta\u001b[0m\u001b[0;34m[\u001b[0m\u001b[0mi\u001b[0m\u001b[0;34m]\u001b[0m \u001b[0;34m=\u001b[0m \u001b[0mmomentum_val\u001b[0m\u001b[0;34m\u001b[0m\u001b[0m\n",
      "\u001b[0;32m/anaconda3/lib/python3.6/site-packages/tensorflow/python/client/session.py\u001b[0m in \u001b[0;36mrun\u001b[0;34m(self, fetches, feed_dict, options, run_metadata)\u001b[0m\n\u001b[1;32m    903\u001b[0m     \u001b[0;32mtry\u001b[0m\u001b[0;34m:\u001b[0m\u001b[0;34m\u001b[0m\u001b[0m\n\u001b[1;32m    904\u001b[0m       result = self._run(None, fetches, feed_dict, options_ptr,\n\u001b[0;32m--> 905\u001b[0;31m                          run_metadata_ptr)\n\u001b[0m\u001b[1;32m    906\u001b[0m       \u001b[0;32mif\u001b[0m \u001b[0mrun_metadata\u001b[0m\u001b[0;34m:\u001b[0m\u001b[0;34m\u001b[0m\u001b[0m\n\u001b[1;32m    907\u001b[0m         \u001b[0mproto_data\u001b[0m \u001b[0;34m=\u001b[0m \u001b[0mtf_session\u001b[0m\u001b[0;34m.\u001b[0m\u001b[0mTF_GetBuffer\u001b[0m\u001b[0;34m(\u001b[0m\u001b[0mrun_metadata_ptr\u001b[0m\u001b[0;34m)\u001b[0m\u001b[0;34m\u001b[0m\u001b[0m\n",
      "\u001b[0;32m/anaconda3/lib/python3.6/site-packages/tensorflow/python/client/session.py\u001b[0m in \u001b[0;36m_run\u001b[0;34m(self, handle, fetches, feed_dict, options, run_metadata)\u001b[0m\n\u001b[1;32m   1081\u001b[0m           \u001b[0;32mexcept\u001b[0m \u001b[0mException\u001b[0m \u001b[0;32mas\u001b[0m \u001b[0me\u001b[0m\u001b[0;34m:\u001b[0m\u001b[0;34m\u001b[0m\u001b[0m\n\u001b[1;32m   1082\u001b[0m             raise TypeError(\n\u001b[0;32m-> 1083\u001b[0;31m                 'Cannot interpret feed_dict key as Tensor: ' + e.args[0])\n\u001b[0m\u001b[1;32m   1084\u001b[0m \u001b[0;34m\u001b[0m\u001b[0m\n\u001b[1;32m   1085\u001b[0m           \u001b[0;32mif\u001b[0m \u001b[0misinstance\u001b[0m\u001b[0;34m(\u001b[0m\u001b[0msubfeed_val\u001b[0m\u001b[0;34m,\u001b[0m \u001b[0mops\u001b[0m\u001b[0;34m.\u001b[0m\u001b[0mTensor\u001b[0m\u001b[0;34m)\u001b[0m\u001b[0;34m:\u001b[0m\u001b[0;34m\u001b[0m\u001b[0m\n",
      "\u001b[0;31mTypeError\u001b[0m: Cannot interpret feed_dict key as Tensor: Can not convert a float into a Tensor."
     ]
    }
   ],
   "source": [
    "def potential_and_grad(position, k=0.0):\n",
    "    #function that returns the potential and it's gradient at a given position\n",
    "    return tf.reduce_sum(0.5 * tf.multiply(k,tf.square(position))), tf.multiply(k,position)\n",
    "\n",
    "#create placeholders for initial position and momentum to define model\n",
    "position = tf.placeholder(np.float32)\n",
    "momentum = tf.placeholder(np.float32)\n",
    "\n",
    "#define potential\n",
    "k = tf.placeholder(np.float32)\n",
    "potential, grad = potential_and_grad(position, k=k)\n",
    "\n",
    "#define step size of each leap and number of leaps\n",
    "step_size = 0.01      #resolution of each leap\n",
    "n_runs = 100          #duration of integration\n",
    "n_shos = 2            #number of simple harmonic oscillators \n",
    "t_obs = 5.\n",
    "\n",
    "#define model, leapfrog_integrator is from hmc tensorflow stuff\n",
    "#new_position, new_momentum, new_potential, new_grad = leapfrog_integrator(\n",
    "#step_size, n_steps_per_run, position, momentum, potential_and_grad, grad)\n",
    "\n",
    "new_position, new_momentum, new_potential, new_grad = tflf.leapfrog_integrator(\n",
    "    step_size, dt, position, momentum,\n",
    "                        potential_and_grad, grad, name=None)\n",
    "\n",
    "\n",
    "#start session\n",
    "sess = tf.Session()\n",
    "\n",
    "#generate initial velocities and momenta\n",
    "np.random.seed(1)\n",
    "position_val = np.random.randn(n_shos)\n",
    "momentum_val = np.random.randn(n_shos)\n",
    "\n",
    "#generate times to observe SHO\n",
    "t_obs = np.random.uniform(0, max_time, nobspoints)\n",
    "t_obs.sort()\n",
    "\n",
    "k_val = np.float32(1.0)\n",
    "\n",
    "#calculate potential and gradient at these random positions \n",
    "potential_val, grad_val = sess.run([potential, grad],\n",
    "                                 feed_dict={position: position_val, k: k_val})\n",
    "\n",
    "#generate arrays to save values from model\n",
    "positions = np.zeros([n_runs, n_shos])\n",
    "momenta   = np.zeros([n_runs, n_shos])\n",
    "\n",
    "#run model on random initial positions and momenta\n",
    "t_previous = 0.0\n",
    "for t in t_obs:\n",
    "    deltat = t - t_previous\n",
    "    position_val, momentum_val, potential_val, grad_val = sess.run(\n",
    "  [new_position, new_momentum, new_potential, new_grad],\n",
    "  feed_dict = {position: position_val, momentum: momentum_val, k: k_val, dt: deltat})\n",
    "    positions[i] = position_val\n",
    "    momenta[i] = momentum_val\n",
    "    t_previous = t\n",
    "\n",
    "loglike = -0.5 * tf.reduce_sum(tf.square(v - v_obs_tensor)) * tf.exp(-2*logsv_tensor)\n",
    "loglike -= 0.5 * N * logsv_tensor\n",
    "loglike -= 0.5 * tf.reduce_sum(tf.square(x - x_obs_tensor)) * tf.exp(-2*logsx_tensor)\n",
    "loglike -= 0.5 * N * logsx_tensor\n",
    "\n",
    "session.run(tf.global_variables_initializer())    \n",
    "\n",
    "# Plot positions and momenta "
   ]
  },
  {
   "cell_type": "code",
   "execution_count": null,
   "metadata": {},
   "outputs": [],
   "source": [
    "print(dt)"
   ]
  },
  {
   "cell_type": "code",
   "execution_count": null,
   "metadata": {},
   "outputs": [],
   "source": [
    "session.run(x)"
   ]
  },
  {
   "cell_type": "code",
   "execution_count": null,
   "metadata": {},
   "outputs": [],
   "source": [
    "session.run(potential_and_grad(x), feed_dict={k:k_val})"
   ]
  },
  {
   "cell_type": "code",
   "execution_count": null,
   "metadata": {
    "collapsed": true
   },
   "outputs": [],
   "source": [
    "params = [k_tensor, x0_tensor, v0_tensor, t_obs_tensor]\n",
    "opt = tf.contrib.opt.ScipyOptimizerInterface(-loglike, params)\n",
    "opt.minimize(session)"
   ]
  },
  {
   "cell_type": "code",
   "execution_count": null,
   "metadata": {},
   "outputs": [],
   "source": [
    "#define the likelihood calculation in TensorFlow\n",
    "\n",
    "#parameters I want to infer\n",
    "k_tensor = tf.Variable(0.0, dtype=tf.float64, name=\"k\")\n",
    "x0_tensor = tf.Variable(0.0, dtype=tf.float64, name=\"x0\")\n",
    "v0_tensor = tf.Variable(0.0, dtype=tf.float64, name=\"v0\")\n",
    "t_obs_tensor = tf.Variable([0.0]*nobspoints, dtype=tf.float64, name='tobs')\n",
    "\n",
    "#parameters we measured\n",
    "logsx_tensor = tf.constant(np.log(std_noise_x), dtype=tf.float64, name=\"logsx\")\n",
    "logsv_tensor = tf.constant(np.log(std_noise_v), dtype=tf.float64, name='logsv')\n",
    "x_obs_tensor = tf.constant(x_obs, dtype=tf.float64)\n",
    "v_obs_tensor = tf.constant(v_obs, dtype=tf.float64)\n",
    "\n",
    "#parameters we set\n",
    "dt_tensor = tf.constant(dt, dtype=tf.float64)\n",
    "\n",
    "#parameters we may need to instatiate for leapfrog\n",
    "#xprime\n",
    "#vprime\n",
    "step_size = dt\n",
    "n_steps = fix(t_obs/dt)\n",
    "initial_position = x0\n",
    "initial_momentum = v0\n",
    "def potential_and_grad():\n",
    "    \n",
    "leapfrog_integrator(step_size, n_steps, initial_position, initial_momentum,\n",
    "                        potential_and_grad, initial_grad, name=None)\n",
    "\n",
    "x, v = leapfrog(x0_tensor, v0_tensor, t_obs_tensor, phi_grad, dt_tensor, k=k_tensor)\n"
   ]
  },
  {
   "cell_type": "code",
   "execution_count": null,
   "metadata": {
    "collapsed": true
   },
   "outputs": [],
   "source": [
    "\n",
    "loglike = -0.5 * tf.reduce_sum(tf.square(v - v_obs_tensor)) * tf.exp(-2*logsv_tensor)\n",
    "loglike -= 0.5 * N * logsv_tensor\n",
    "loglike -= 0.5 * tf.reduce_sum(tf.square(x - x_obs_tensor)) * tf.exp(-2*logsx_tensor)\n",
    "loglike -= 0.5 * N * logsx_tensor\n",
    "\n",
    "session.run(tf.global_variables_initializer())"
   ]
  },
  {
   "cell_type": "code",
   "execution_count": null,
   "metadata": {
    "collapsed": true
   },
   "outputs": [],
   "source": [
    "params = [k_tensor, x0_tensor, v0_tensor, t_obs_tensor]\n",
    "opt = tf.contrib.opt.ScipyOptimizerInterface(-loglike, params)\n",
    "opt.minimize(session)"
   ]
  },
  {
   "cell_type": "code",
   "execution_count": null,
   "metadata": {},
   "outputs": [],
   "source": [
    "p0"
   ]
  },
  {
   "cell_type": "code",
   "execution_count": null,
   "metadata": {},
   "outputs": [],
   "source": [
    "fig, ax = plt.subplots(1, 2, figsize=(10, 5))\n",
    "#plot best fit from optimization \n",
    "\n",
    "#plot true values\n",
    "x_compare, v_compare = leapfrog(x0_true, v0_true, t_compare, phi_grad, dt, k=k_true)\n",
    "ax[0].plot(x_compare, v_compare, c='C3', label='Truth')\n",
    "ax[0].scatter(x_true, v_true, c='C3')\n",
    "\n",
    "x_compare, v_compare = leapfrog(x0_guess, v0_guess, t_compare, phi_grad, dt, k=k_guess)\n",
    "ax[0].plot(x_compare, v_compare, c='C0', label = 'Initial Guess')\n",
    "ax[0].errorbar(x_obs, v_obs, xerr = plot_xerr, yerr = plot_yerr, fmt='o', color='k', label='data')\n",
    "\n",
    "\n",
    "ax[0].legend(loc = 'upper right')\n",
    "ax[0].set_xlabel('X')\n",
    "ax[0].set_ylabel('V')\n",
    "ax[0].set_title('Visualization of intial guess')\n",
    "\n",
    "ax[1].plot(t_obs_true, t0_guess, 'ko')\n",
    "ax[1].set_xlabel('true observation time')\n",
    "ax[1].set_ylabel('initial guess of observation time')\n",
    "ax[1].plot([0,max_time], [0, max_time], 'C3')\n",
    "\n",
    "plt.savefig('initalGuess.jpg', rasterized=True)"
   ]
  },
  {
   "cell_type": "code",
   "execution_count": null,
   "metadata": {
    "scrolled": true
   },
   "outputs": [],
   "source": [
    "plt.figure(figsize=(10, 5))\n",
    "x_compare, v_compare = leapfrog(x0_true, v0_true, t_compare, phi_grad, dt, k=k_true)\n",
    "\n",
    "plt.plot(t_compare, x_compare, 'C3', label='x')\n",
    "plt.plot(t_compare, v_compare, 'C3--', label='v')\n",
    "plt.errorbar(t_obs_true, x_obs, yerr=std_noise_x, fmt='o', color='k')\n",
    "plt.errorbar(t_obs_true, v_obs, yerr=std_noise_v, fmt='o', color='k')\n",
    "plt.xlabel('t')\n",
    "plt.legend()\n",
    "plt.title('True SHO and Observations')\n",
    "plt.xlim(0, max_time)\n",
    "plt.savefig('dataGeneration.jpg', rasterized=True)"
   ]
  },
  {
   "cell_type": "code",
   "execution_count": null,
   "metadata": {},
   "outputs": [],
   "source": [
    "ln_likelihood(p0, data, dt)"
   ]
  },
  {
   "cell_type": "code",
   "execution_count": null,
   "metadata": {
    "collapsed": true
   },
   "outputs": [],
   "source": [
    "#%%timeit\n",
    "#res = so.minimize(lambda *args : -ln_likelihood(*args),\n",
    "#                  x0=p0, method='Powell', args=args) #, options={'maxiter': 1, 'disp': True, 'maxfev':1})\n"
   ]
  },
  {
   "cell_type": "code",
   "execution_count": null,
   "metadata": {
    "collapsed": true
   },
   "outputs": [],
   "source": [
    "def nll(*args):\n",
    "    return -ln_likelihood(*args)"
   ]
  },
  {
   "cell_type": "code",
   "execution_count": null,
   "metadata": {
    "collapsed": true
   },
   "outputs": [],
   "source": [
    "res = so.minimize(nll,\n",
    "                  x0=p0, method='Powell', args=args) #, options={'maxiter': 1, 'disp': True, 'maxfev':1})\n"
   ]
  },
  {
   "cell_type": "code",
   "execution_count": null,
   "metadata": {},
   "outputs": [],
   "source": [
    "print('The optimizer was successful: {0}'.format(res.success))\n",
    "print('The {0} with {1} functional evaluations'.format(res.message, res.nfev))\n",
    "print('The results are: {0}'.format(res.x))"
   ]
  },
  {
   "cell_type": "code",
   "execution_count": null,
   "metadata": {},
   "outputs": [],
   "source": [
    "print('The true values are: k = {0:0.2f}, x0 = {1:0.2f}, v0 = {2:0.2f}'.format(k_true, x0_true, v0_true))\n",
    "print('The optimized values are: k = {0:0.2f}, x0 = {1:0.2f}, v0 = {2:0.2f}'.format(res.x[0], res.x[1], res.x[2], res.x[3]))\n"
   ]
  },
  {
   "cell_type": "code",
   "execution_count": null,
   "metadata": {},
   "outputs": [],
   "source": [
    "plt.figure(figsize=(10, 5))\n",
    "#plot best fit from optimization \n",
    "#plot true values\n",
    "x_compare, v_compare = leapfrog(x0_true, v0_true, t_compare, phi_grad, dt, k=k_true)\n",
    "plt.plot(t_compare, x_compare, c='C3', label='x true')\n",
    "plt.plot(t_compare, v_compare, 'C3--', label='v true')\n",
    "#plt.scatter(t_obs_true, x_true, c='C3', edgecolor='k') \n",
    "#plt.scatter(t_obs_true, v_true, c='C3', edgecolor='k')\n",
    "\n",
    "x_compare, v_compare = leapfrog(res.x[1], res.x[2], t_compare, phi_grad, dt, k=res.x[0])\n",
    "plt.plot(t_compare, x_compare, c='C0', label='x opt')\n",
    "plt.plot(t_compare, v_compare, 'C0--', label='v opt')\n",
    "#plt.errorbar(res.x[3:], x_obs, yerr=std_noise_x, fmt='o', color='C0')\n",
    "#plt.errorbar(res.x[3:], v_obs, yerr=std_noise_v, fmt='o', color='C0')\n",
    "plt.legend()\n",
    "plt.xlabel('t')\n",
    "plt.xlim(0, max_time)\n",
    "\n",
    "plt.title('Best fit k, x0, v0 from General Optimization')\n",
    "plt.savefig('generalOptimizer_t.jpg', rasterized=True)"
   ]
  },
  {
   "cell_type": "code",
   "execution_count": null,
   "metadata": {},
   "outputs": [],
   "source": [
    "fig, ax = plt.subplots(1, 2, figsize=(10, 5))\n",
    "#plot best fit from optimization \n",
    "x_compare, v_compare = leapfrog(res.x[1], res.x[2], t_compare, phi_grad, dt, k=res.x[0])\n",
    "ax[0].plot(x_compare, v_compare, c='C0', label = 'optimized orbit')\n",
    "ax[0].errorbar(x_obs, v_obs, xerr = plot_xerr, yerr = plot_yerr, fmt='o', color='k', label='data')\n",
    "\n",
    "#plot true values\n",
    "x_compare, v_compare = leapfrog(x0_true, v0_true, t_compare, phi_grad, dt, k=k_true)\n",
    "ax[0].plot(x_compare, v_compare, c='C3', label='Truth')\n",
    "ax[0].scatter(x_true, v_true, c='C3')\n",
    "ax[0].legend(loc = 'upper right')\n",
    "ax[0].set_xlabel('X')\n",
    "ax[0].set_ylabel('Y')\n",
    "ax[0].set_title('Best fit k, x0, v0 from General Optimization')\n",
    "\n",
    "ax[1].plot(t_obs_true, res.x[3:], 'ko')\n",
    "ax[1].set_xlabel('true observation time')\n",
    "ax[1].set_ylabel('optimized observation time')\n",
    "ax[1].plot([0,max_time], [0, max_time], 'C3')\n",
    "fig.savefig('generalOptimizer_xv.jpg', rasterized=True)"
   ]
  },
  {
   "cell_type": "code",
   "execution_count": null,
   "metadata": {
    "collapsed": true
   },
   "outputs": [],
   "source": [
    "grad_ln_like = grad(nll)"
   ]
  },
  {
   "cell_type": "code",
   "execution_count": null,
   "metadata": {
    "collapsed": true
   },
   "outputs": [],
   "source": [
    "grads = []\n",
    "\n",
    "k = k_true\n",
    "x0 = x0_true\n",
    "v0 = v0_true\n",
    "t0 = t_obs_true\n",
    "epsilon = 0.0001\n",
    "k = k_true + epsilon/2.\n",
    "p0_test = [k, x0, v0] + (t0).tolist()\n",
    "kp = nll(p0_test, data, dt)\n",
    "k = k_true - epsilon/2.\n",
    "p0_test = [k, x0, v0] + (t0).tolist()\n",
    "km = nll(p0_test, data, dt)\n",
    "k = k_true\n",
    "\n",
    "grads.append((kp - km)/epsilon)\n",
    "\n",
    "\n",
    "x0 = x0_true + epsilon/2.\n",
    "p0_test = [k, x0, v0] + (t0).tolist()\n",
    "xp = nll(p0_test, data, dt)\n",
    "x0 = x0_true - epsilon/2.\n",
    "p0_test = [k, x0, v0] + (t0).tolist()\n",
    "xm = nll(p0_test, data, dt)\n",
    "x0 = x0_true\n",
    "\n",
    "grads.append((xp - xm)/epsilon)\n",
    "\n",
    "v0 = v0_true + epsilon/2.\n",
    "p0_test = [k, x0, v0] + (t0).tolist()\n",
    "vp = nll(p0_test, data, dt)\n",
    "v0 = v0_true - epsilon/2.\n",
    "p0_test = [k, x0, v0] + (t0).tolist()\n",
    "vm = nll(p0_test, data, dt)\n",
    "v0 = v0_true\n",
    "\n",
    "grads.append((vp - vm)/epsilon)\n",
    "\n",
    "for i, t in enumerate(t0):\n",
    "    t_obs_true[i] = t + epsilon/2.\n",
    "    p0_test = [k, x0, v0] + (t0).tolist()\n",
    "    tp = nll(p0_test, data, dt)\n",
    "    t_obs_true[i] = t - epsilon/2.\n",
    "    p0_test = [k, x0, v0] + (t0).tolist()\n",
    "    tm = nll(p0_test, data, dt)\n",
    "    t_obs_true[i] = t\n",
    "    \n",
    "    grads.append((tp - tm)/epsilon)\n",
    "    \n",
    "    \n"
   ]
  },
  {
   "cell_type": "code",
   "execution_count": null,
   "metadata": {
    "scrolled": true
   },
   "outputs": [],
   "source": [
    "grads"
   ]
  },
  {
   "cell_type": "code",
   "execution_count": null,
   "metadata": {
    "scrolled": true
   },
   "outputs": [],
   "source": [
    "grad_ln_like(p0, data, dt)"
   ]
  },
  {
   "cell_type": "code",
   "execution_count": null,
   "metadata": {
    "collapsed": true
   },
   "outputs": [],
   "source": [
    "#%%timeit\n",
    "#args = (data, dt_model) \n",
    "#res = so.minimize(nll, x0=p0, args=args, jac=grad_ln_like) #, options={'maxiter': 1, 'disp': True, 'maxfev':1})\n"
   ]
  },
  {
   "cell_type": "code",
   "execution_count": null,
   "metadata": {},
   "outputs": [],
   "source": [
    "p0"
   ]
  },
  {
   "cell_type": "code",
   "execution_count": null,
   "metadata": {},
   "outputs": [],
   "source": [
    "args = (data, dt) \n",
    "res = so.minimize(nll, x0=p0, args=args, jac=grad_ln_like) #, options={'maxiter': 1, 'disp': True, 'maxfev':1})\n"
   ]
  },
  {
   "cell_type": "code",
   "execution_count": null,
   "metadata": {
    "collapsed": true
   },
   "outputs": [],
   "source": [
    "print('The optimizer was successful: {0}'.format(res.success))\n",
    "print('The {0} with {1} functional evaluations'.format(res.message, res.nfev))\n",
    "print('The results are: {0}'.format(res.x))"
   ]
  },
  {
   "cell_type": "code",
   "execution_count": null,
   "metadata": {
    "collapsed": true
   },
   "outputs": [],
   "source": [
    "print('The true values are: k = {0:0.2f}, x0 = {1:0.2f}, v0 = {2:0.2f}'.format(k_true, x0_true, v0_true))\n",
    "print('The optimized values are: k = {0:0.5f}, x0 = {1:0.5f}, v0 = {2:0.5f}'.format(res.x[0], res.x[1], res.x[2], res.x[3]))\n"
   ]
  },
  {
   "cell_type": "code",
   "execution_count": null,
   "metadata": {
    "collapsed": true
   },
   "outputs": [],
   "source": [
    "plt.figure(figsize=(10, 5))\n",
    "\n",
    "\n",
    "#plot best fit from optimization \n",
    "x_compare, v_compare = leapfrog(res.x[1], res.x[2], t_compare, phi_grad, dt, k=res.x[0])\n",
    "plt.plot(t_compare, x_compare, c='C0', label='x opt')\n",
    "plt.plot(t_compare, v_compare, 'C0--', label='v opt')\n",
    "#plt.errorbar(res.x[3:], x_obs, c='C0', yerr=std_noise_x, fmt='o')\n",
    "#plt.errorbar(res.x[3:], v_obs, c='C0', yerr=std_noise_v, fmt='o')\n",
    "\n",
    "#plot true values\n",
    "x_compare, v_compare = leapfrog(x0_true, v0_true, t_compare, phi_grad, dt, k=k_true)\n",
    "plt.plot(t_compare, x_compare, c='C3', label='x true')\n",
    "plt.plot(t_compare, v_compare, 'C3--', label='v true')\n",
    "#plt.scatter(t_obs_true, x_true, c='C3') \n",
    "#plt.scatter(t_obs_true, v_true, c='C3')\n",
    "\n",
    "plt.legend()\n",
    "plt.xlabel('t')\n",
    "\n",
    "plt.xlim(0, max_time)\n",
    "plt.title('Best fit k, x0, v0 from Optimization')\n",
    "plt.savefig('gradientOptimizer_t.jpg', rasterized=True)"
   ]
  },
  {
   "cell_type": "code",
   "execution_count": null,
   "metadata": {
    "collapsed": true
   },
   "outputs": [],
   "source": [
    "fig, ax = plt.subplots(1, 2, figsize=(10, 5))\n",
    "#plot best fit from optimization \n",
    "\n",
    "#plot true values\n",
    "x_compare, v_compare = leapfrog(x0_true, v0_true, t_compare, phi_grad, dt, k=k_true)\n",
    "ax[0].plot(x_compare, v_compare, c='C3', label='Truth')\n",
    "ax[0].scatter(x_true, v_true, c='C3')\n",
    "\n",
    "x_compare, v_compare = leapfrog(res.x[1], res.x[2], t_compare, phi_grad, dt, k=res.x[0])\n",
    "ax[0].plot(x_compare, v_compare, c='C0', label = 'optimized orbit')\n",
    "ax[0].errorbar(x_obs, v_obs, xerr = plot_xerr, yerr = plot_yerr, fmt='o', color='k', label='data')\n",
    "\n",
    "\n",
    "ax[0].legend(loc = 'upper right')\n",
    "ax[0].set_xlabel('X')\n",
    "ax[0].set_ylabel('V')\n",
    "ax[0].set_title('Best fit k, x0, v0 from Gradient Optimization')\n",
    "\n",
    "ax[1].plot(t_obs_true, res.x[3:], 'ko')\n",
    "ax[1].set_xlabel('true observation time')\n",
    "ax[1].set_ylabel('optimized observation time')\n",
    "ax[1].plot([0,max_time], [0, max_time], 'C3')\n",
    "\n",
    "fig.savefig('gradientOptimizer.jpg', rasterized=True)"
   ]
  },
  {
   "cell_type": "code",
   "execution_count": null,
   "metadata": {},
   "outputs": [],
   "source": [
    "def cond(tprime, dt, tobs, xprime, v0_5, k):\n",
    "    return tf.less(tprime + dt, tobs)\n",
    "\n",
    "def leap(tprime, dt, tobs, xprime, v0_5, k):\n",
    "    xprime = xprime + dt*v0_5\n",
    "    a      = -phi_grad(xprime, k=k)\n",
    "    v0_5   = v0_5 + a*dt\n",
    "    tprime = tprime + dt        \n",
    "    return [tprime, dt, tobs, xprime, v0_5, k]\n",
    "\n",
    "def evolve(params, i):\n",
    "    #unpack parameters that are updated in scan\n",
    "    t_obs, tprime, dt, xprime, v0_5, k, x, v, t = params\n",
    "    to = t_obs[i]\n",
    "    #leap up to timestep just before tobs in scan\n",
    "    leapparams = [tprime, dt, to, xprime, v0_5, k]\n",
    "    res = tf.while_loop(cond, leap, leapparams)\n",
    "    \n",
    "    #leap to tobs\n",
    "    [tprime, dt, to, xprime, v0_5, k] = res\n",
    "    dt_tiny = to - tprime\n",
    "    xprime = xprime + dt_tiny*v0_5\n",
    "    a      = -phi_grad(xprime, k=k)\n",
    "    vprime =(v0_5 + a*dt_tiny/2)\n",
    "    v0_5   = v0_5 + a*dt_tiny\n",
    "    tprime = tprime + dt_tiny\n",
    "\n",
    "    #add leapfrog'd value to array\n",
    "    print(i, x, xprime)\n",
    "    x[i] = xprime\n",
    "    v[i] = vprime\n",
    "    t[i] = tprime\n",
    "    \n",
    "    #return [x, v, t]\n",
    "    return [t_obs, tprime, dt, xprime, v0_5, k, x, v, t]\n",
    "    \n",
    "def leapfrog(x0, v0, t_obs, phi_grad, dt, k=1):\n",
    "    #function that takes initial conditions that takes us to the next position \n",
    "    v0_5 = v0 + phi_grad(x0, k=k)*dt/2.\n",
    "    tprime = tf.Variable(0.0, dtype=tf.float64, name=\"tprime\")\n",
    "    xprime = x0 #!! do I need to do some sort of deep copy here?\n",
    "    v = tf.Variable([0.0]*nobspoints, dtype=tf.float64, name='v')\n",
    "    x = tf.Variable([0.0]*nobspoints, dtype=tf.float64, name='x')\n",
    "    t = tf.Variable([0.0]*nobspoints, dtype=tf.float64, name='t')\n",
    "    initializer = [t_obs, tprime, dt, xprime, v0_5, k, x, v, t]\n",
    "    iteration = np.arange(0, nobspoints)\n",
    "    update = tf.scan(evolve, iteration, initializer=initializer)\n",
    "    with tf.Session() as sess:\n",
    "        sess.run(tf.global_variables_initializer())\n",
    "        print(sess.run(update))\n",
    "\n",
    "    return x, v #, np.array(t)"
   ]
  },
  {
   "cell_type": "code",
   "execution_count": null,
   "metadata": {
    "collapsed": true
   },
   "outputs": [],
   "source": []
  },
  {
   "cell_type": "code",
   "execution_count": null,
   "metadata": {
    "collapsed": true
   },
   "outputs": [],
   "source": []
  },
  {
   "cell_type": "code",
   "execution_count": null,
   "metadata": {
    "collapsed": true
   },
   "outputs": [],
   "source": []
  },
  {
   "cell_type": "code",
   "execution_count": null,
   "metadata": {
    "collapsed": true
   },
   "outputs": [],
   "source": []
  }
 ],
 "metadata": {
  "kernelspec": {
   "display_name": "Python 3",
   "language": "python",
   "name": "python3"
  },
  "language_info": {
   "codemirror_mode": {
    "name": "ipython",
    "version": 3
   },
   "file_extension": ".py",
   "mimetype": "text/x-python",
   "name": "python",
   "nbconvert_exporter": "python",
   "pygments_lexer": "ipython3",
   "version": "3.6.3"
  }
 },
 "nbformat": 4,
 "nbformat_minor": 2
}
